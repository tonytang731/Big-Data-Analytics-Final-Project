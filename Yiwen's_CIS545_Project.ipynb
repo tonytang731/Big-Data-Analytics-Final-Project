{
  "nbformat": 4,
  "nbformat_minor": 0,
  "metadata": {
    "colab": {
      "name": "Yiwen's CIS545 Project.ipynb",
      "provenance": [],
      "collapsed_sections": []
    },
    "kernelspec": {
      "name": "python3",
      "display_name": "Python 3"
    },
    "accelerator": "GPU"
  },
  "cells": [
    {
      "cell_type": "markdown",
      "metadata": {
        "id": "IOJkRgzxhJ-G",
        "colab_type": "text"
      },
      "source": [
        "# Yiwen's CIS 545 Final Project: Amazon Review Analysis and Classification\n",
        "\n",
        "**Welcome to my Final Project!** For this project, we will be using text from 100,000 reviews from Amazon.com, their timestamps and their ratings. The text has already been pre-processed and is presented as bag of words! Please fasten your seatbelt. Let's rock!"
      ]
    },
    {
      "cell_type": "markdown",
      "metadata": {
        "id": "ITDVNaSO-DWl",
        "colab_type": "text"
      },
      "source": [
        "## 0.1 Loading the Packages\n",
        "\n",
        "The first thing on our list is usually installing or importing the packages we needed. "
      ]
    },
    {
      "cell_type": "code",
      "metadata": {
        "id": "qSbSQfxLhKsn",
        "colab_type": "code",
        "colab": {}
      },
      "source": [
        "# Load the Packages\n",
        "\n",
        "%%capture\n",
        "!pip install -U gensim\n",
        "!pip install urllib2\n",
        "\n",
        "# check gensim version (make sure the version is 3.8.1)\n",
        "import gensim\n",
        "gensim.__version__\n",
        "\n",
        "import numpy as np\n",
        "import pandas as pd\n",
        "import matplotlib.pyplot as plt\n",
        "import matplotlib.cm as cm\n",
        "\n",
        "from gensim import corpora\n",
        "from gensim.models import LsiModel, KeyedVectors\n",
        "from gensim.models.tfidfmodel import TfidfModel\n",
        "from gensim.models.nmf import Nmf\n",
        "\n",
        "import sklearn.model_selection as ms\n",
        "from sklearn.ensemble import RandomForestClassifier\n",
        "from sklearn.cluster import KMeans\n",
        "from sklearn.manifold import TSNE\n",
        "from sklearn.linear_model import LinearRegression\n",
        "from sklearn import linear_model\n",
        "\n",
        "from datetime import *\n",
        "from operator import itemgetter\n",
        "\n",
        "# Warnings about versions are sometimes annoying\n",
        "# We can use the function below to hide them\n",
        "\n",
        "import warnings\n",
        "warnings.filterwarnings('ignore')"
      ],
      "execution_count": null,
      "outputs": []
    },
    {
      "cell_type": "markdown",
      "metadata": {
        "id": "Lf5PmaTp-uiE",
        "colab_type": "text"
      },
      "source": [
        "## 0.2 Importing the data\n",
        "\n",
        "Our next step is to prepare our ingrediants for the analysis --- the Amazon reviews, their timestamps and ratings."
      ]
    },
    {
      "cell_type": "code",
      "metadata": {
        "id": "uN2sYPKfSv21",
        "colab_type": "code",
        "colab": {}
      },
      "source": [
        "#Introduce our data\n",
        "\n",
        "%%capture\n",
        "!wget https://cis.upenn.edu/~cis545/data/reviews.dict\n",
        "!wget https://cis.upenn.edu/~cis545/data/train_reviews.mm\n",
        "!wget https://cis.upenn.edu/~cis545/data/train_times.npy"
      ],
      "execution_count": null,
      "outputs": []
    },
    {
      "cell_type": "code",
      "metadata": {
        "id": "M62NfeFGSv-a",
        "colab_type": "code",
        "colab": {}
      },
      "source": [
        "#Read our data\n",
        "\n",
        "reviews_dict = corpora.Dictionary.load(\"reviews.dict\")\n",
        "reviews_bow = corpora.MmCorpus('train_reviews.mm')\n",
        "reviews_times  = np.load('train_times.npy')\n",
        "reviews_times.shape = (len(reviews_bow), 1)\n",
        "y = np.vstack((np.repeat(1, 4000), np.repeat(2, 4000), np.repeat(3, 4000), np.repeat(4, 4000), np.repeat(5, 4000)))\n",
        "y = np.repeat(y, 5)"
      ],
      "execution_count": null,
      "outputs": []
    },
    {
      "cell_type": "markdown",
      "metadata": {
        "id": "yGiEARUd_lhM",
        "colab_type": "text"
      },
      "source": [
        "## 0.3 Loading pre-built functions\n",
        "\n",
        "In the next few cells, we are going to load some functions written by us in HW4. There are going to be valuable for our analysis."
      ]
    },
    {
      "cell_type": "markdown",
      "metadata": {
        "id": "GbpKEAVrBXrD",
        "colab_type": "text"
      },
      "source": [
        "- The `convert_times` function should take in the entire `review_times` vector at once. It should return a new pandas `Series` object made from `review_times` but the entries should be of type `datetime` or `Timestamp`.\n",
        "\n",
        "- The `densify` function transform a sparse matrix to a dense matrix. It prepares the data for Machine Learning algorithms.\n",
        "\n",
        "- The `make-tfidf` function transform the bag of words to tf-idf presentation by converting our counts into TF-IDF scores.\n",
        "\n",
        "- The `evaluate_rf_model` functions construct a random forest model with the given inputs X and y. It contains 3 components\n",
        "\n",
        "    1.   Training/Test Data Split: we randomly select 20% of X, y as our test data\n",
        "    2.   Construct a Random Forest model with 70 estimators, random state 1911\n",
        "    3.   Run the model on our test data and determine the accuracy\n",
        "\n",
        "\n",
        "\n"
      ]
    },
    {
      "cell_type": "code",
      "metadata": {
        "id": "varA0Sc8KBQF",
        "colab_type": "code",
        "colab": {}
      },
      "source": [
        "def convert_times(reviews_times):\n",
        "    # TODO #\n",
        "    res = []\n",
        "    for var in reviews_times:\n",
        "      res.append(datetime.fromtimestamp(var))\n",
        "    return pd.Series(res)"
      ],
      "execution_count": null,
      "outputs": []
    },
    {
      "cell_type": "code",
      "metadata": {
        "id": "XkwVx8WfLKeN",
        "colab_type": "code",
        "colab": {}
      },
      "source": [
        "def densify(sparse, columns):\n",
        "    res = np.zeros([len(sparse), columns])\n",
        "    count = 0\n",
        "    for title in sparse:\n",
        "      for i in range(len(title)):\n",
        "        res[count,title[i][0]] += title[i][1]\n",
        "      count += 1\n",
        "    return res"
      ],
      "execution_count": null,
      "outputs": []
    },
    {
      "cell_type": "code",
      "metadata": {
        "id": "MHv1QmvhMbNe",
        "colab_type": "code",
        "colab": {}
      },
      "source": [
        "def make_tfidf(reviews_bow):\n",
        "    model = TfidfModel(reviews_bow, normalize=True)\n",
        "    return model[reviews_bow]"
      ],
      "execution_count": null,
      "outputs": []
    },
    {
      "cell_type": "code",
      "metadata": {
        "id": "Pze6iKrJLVI5",
        "colab_type": "code",
        "colab": {}
      },
      "source": [
        "def evaluate_rf_model(X, y):\n",
        "    X_train, X_test, y_train, y_test = ms.train_test_split(X, y, test_size=0.2, random_state = 1911)\n",
        "    rfor = RandomForestClassifier(n_estimators=70, random_state=1911)\n",
        "    # TODO #\n",
        "    rfor.fit(X_train,y_train)\n",
        "    return rfor.score(X_test, y_test)"
      ],
      "execution_count": null,
      "outputs": []
    },
    {
      "cell_type": "markdown",
      "metadata": {
        "id": "6Q79movZFliJ",
        "colab_type": "text"
      },
      "source": [
        "## 0.4 Prepare/Pre-process the Data\n",
        "\n",
        "Just one last step before we embark our journary! This part contains x steps.\n",
        "\n",
        "1. Convert our text data to Tf-idf presentation\n",
        "2. Convert our timestamp data to the datetime type\n",
        "3. Run PCA on our data and pick the 40 most informative features (word tokens in our case). This stops our ipynb from crushing since our original data is BIGG!\n"
      ]
    },
    {
      "cell_type": "code",
      "metadata": {
        "id": "aSnWNMQnMcmY",
        "colab_type": "code",
        "colab": {}
      },
      "source": [
        "#Convert Count-Bag-of-Words to Tf-idf Presenation\n",
        "\n",
        "reviews_tfidf = make_tfidf(reviews_bow)"
      ],
      "execution_count": null,
      "outputs": []
    },
    {
      "cell_type": "code",
      "metadata": {
        "id": "RPJ66V3vMijX",
        "colab_type": "code",
        "colab": {}
      },
      "source": [
        "#Convert our timestamp data to the datetime type\n",
        "\n",
        "reviews_times = convert_times(reviews_times)"
      ],
      "execution_count": null,
      "outputs": []
    },
    {
      "cell_type": "code",
      "metadata": {
        "id": "fqCvQYsEXPOY",
        "colab_type": "code",
        "colab": {}
      },
      "source": [
        "#Run PCA on our data and pick the 40 most informative features\n",
        "\n",
        "model_lsi = LsiModel(reviews_tfidf, id2word= reviews_dict, num_topics=40)\n",
        "dense = densify(model_lsi[reviews_tfidf], 40)"
      ],
      "execution_count": null,
      "outputs": []
    },
    {
      "cell_type": "code",
      "metadata": {
        "id": "A_6aLAOGbAVA",
        "colab_type": "code",
        "colab": {
          "base_uri": "https://localhost:8080/",
          "height": 34
        },
        "outputId": "8b2c53fa-bc55-4cd9-abf7-4b2b3ede8d55"
      },
      "source": [
        "#Take a look at the shape of the matrix we generated\n",
        "\n",
        "dense.shape"
      ],
      "execution_count": null,
      "outputs": [
        {
          "output_type": "execute_result",
          "data": {
            "text/plain": [
              "(100000, 40)"
            ]
          },
          "metadata": {
            "tags": []
          },
          "execution_count": 11
        }
      ]
    },
    {
      "cell_type": "markdown",
      "metadata": {
        "id": "b_hL8VgTIB6G",
        "colab_type": "text"
      },
      "source": [
        "# 1.0 Get Started\n",
        "\n",
        "The first thing we are going to do is to try multiple Machine Learning Algorithms to using text data and text data only. In the next section, we will conduct analysis on the timestamp data and conducted features with them.\n",
        "\n",
        "In section 1.0, we are going to try 4 different models on our data.\n",
        "- Linear Regression (With L2-Regularization)\n",
        "- Support Vector Machine (One vs. One)\n",
        "- Support Vector Machine (One vs. the Rest)\n",
        "- Neural Network with Keras"
      ]
    },
    {
      "cell_type": "markdown",
      "metadata": {
        "id": "JloJuykUzt0B",
        "colab_type": "text"
      },
      "source": [
        "###1.0.0 Preparing Training/Test Data\n",
        "\n",
        "Before constructing any model, let's conduct training/test data split first. We take 20% of the data as test data and use random state 1911."
      ]
    },
    {
      "cell_type": "code",
      "metadata": {
        "id": "AUbOZJSNmtom",
        "colab_type": "code",
        "colab": {}
      },
      "source": [
        "# Train-Test Split (Ratio: 0.2) --> For Random Forest and SVM\n",
        "\n",
        "X_train, X_test, y_train, y_test = ms.train_test_split(dense, y, test_size=0.2, random_state = 1911)\n",
        "\n",
        "# Train-Test Split (Ratio: 0.2) --> For Neural Network\n",
        "## Prepare the y by one-hot encoding it.\n",
        "\n",
        "y_nn = pd.get_dummies(y).values\n",
        "X_train_nn, X_test_nn, y_train_nn, y_test_nn = ms.train_test_split(dense, y_nn, test_size=0.2, random_state = 1911)"
      ],
      "execution_count": null,
      "outputs": []
    },
    {
      "cell_type": "markdown",
      "metadata": {
        "id": "Mrjs9sLEMT5N",
        "colab_type": "text"
      },
      "source": [
        "###1.0.1 Linear Regression\n",
        "\n",
        "The first model we are going to attempt on our dataset is [Linear Regression](https://scikit-learn.org/stable/modules/generated/sklearn.linear_model.LinearRegression.html). Since we mainly use linear regression for classification task, why do we use it here? I can't agree more! We should certainly treat the ratings as discrete values instead of continuous values. If not, then we are making a very bold assumption: a 2-star comment is strictly in the middle of a 1-star comment and 3-star comment."
      ]
    },
    {
      "cell_type": "code",
      "metadata": {
        "id": "o6WrFHnAMJEt",
        "colab_type": "code",
        "colab": {}
      },
      "source": [
        "def evaluate_linear_model(X_train, X_test, y_train, y_test):\n",
        "    # add regularization to linear regression model to reduce over-fitting\n",
        "    lm = linear_model.Ridge(alpha=0.1)\n",
        "    lm.fit(X_train, y_train)\n",
        "    pred = lm.predict(X_test)\n",
        "    return lm.score(X_test, y_test), pred"
      ],
      "execution_count": null,
      "outputs": []
    },
    {
      "cell_type": "markdown",
      "metadata": {
        "id": "-DURuEkDQ9kI",
        "colab_type": "text"
      },
      "source": [
        "Let's take at look at our accuracy for the linear model. Emmm, around 47.5% is not too bad, since random guessing gives us 20% accuracys for 5 labels. **However**, are we even sure that are our prediction? Oh, our predicted label of the first sample is 2.76. Could we give a 2.76 stars rating on Amazon? Nope. In addition, the accuracy of this model is determined with MSE, so it doesn't mean anything in our cases. **Therefore, we should know our data before diving into any algorithms, even though many of them are very powerful.** "
      ]
    },
    {
      "cell_type": "code",
      "metadata": {
        "id": "4CsstKUeMwiQ",
        "colab_type": "code",
        "colab": {
          "base_uri": "https://localhost:8080/",
          "height": 51
        },
        "outputId": "7b33f2c7-3387-4a13-d779-68e0d825d567"
      },
      "source": [
        "linear_acc, pred = evaluate_linear_model(X_train, X_test, y_train, y_test)\n",
        "print(\"The accuracy for Linear Regression is: \", linear_acc)\n",
        "print(\"Your predicted label of the first sample is: \", pred[0])"
      ],
      "execution_count": null,
      "outputs": [
        {
          "output_type": "stream",
          "text": [
            "The accuracy for Linear Regression is:  0.4750492687955433\n",
            "Your predicted label of the first sample is:  2.760944407408921\n"
          ],
          "name": "stdout"
        }
      ]
    },
    {
      "cell_type": "markdown",
      "metadata": {
        "id": "brQB3CmvSSux",
        "colab_type": "text"
      },
      "source": [
        "###1.0.2 Support Vector Machine (One vs. One)\n",
        "\n",
        "The first metrics does not work for our data... :` (\n",
        "\n",
        "It is totally fine! Let's do some classification using one of the most powerful algorithm --- Support Vector Machine (**SVM**). [SVM](https://scikit-learn.org/stable/modules/generated/sklearn.svm.SVC.html) finds support vectors(data) that construct a hyperplace which separate data with distinct labels the best. It is very useful in multi-label classification.\n",
        "\n",
        "The first kind of SVM we are going to run is called One vs. One SVM. It means that we are going to build multiple classifers. To be more specific, we are going to build 10 (5 chooses 2) classifiers. Each tells us if a comment is 1-star or 2-star, 1-star or 3-star, etc."
      ]
    },
    {
      "cell_type": "code",
      "metadata": {
        "id": "hQXGCX7FVzS4",
        "colab_type": "code",
        "colab": {}
      },
      "source": [
        "from sklearn import svm\n",
        "\n",
        "def evaluate_svm_model_one_vs_one(X_train, y_train, X_test, y_test):\n",
        "    clf = svm.SVC(decision_function_shape='ovo')\n",
        "    clf.fit(X_train,y_train)\n",
        "    return clf.score(X_test, y_test)"
      ],
      "execution_count": null,
      "outputs": []
    },
    {
      "cell_type": "markdown",
      "metadata": {
        "id": "mcZEemxCWaUB",
        "colab_type": "text"
      },
      "source": [
        "Wow! The accuracy is very good. We correctly classify over 75% of the data!"
      ]
    },
    {
      "cell_type": "code",
      "metadata": {
        "id": "Bp7NGbqlT2c9",
        "colab_type": "code",
        "colab": {
          "base_uri": "https://localhost:8080/",
          "height": 34
        },
        "outputId": "2e021ed0-39c8-4865-b172-c1221fbd07bd"
      },
      "source": [
        "evaluate_svm_model_one_vs_one(X_train, y_train, X_test, y_test)"
      ],
      "execution_count": null,
      "outputs": [
        {
          "output_type": "execute_result",
          "data": {
            "text/plain": [
              "0.7582"
            ]
          },
          "metadata": {
            "tags": []
          },
          "execution_count": 22
        }
      ]
    },
    {
      "cell_type": "markdown",
      "metadata": {
        "id": "07BEY4uAUhjD",
        "colab_type": "text"
      },
      "source": [
        "The second kind of SVM we are going to run is called One vs. the Rest SVM. This model should takes less time than the OvO SVM since it will our construct 5 classifiers, one for each class. Each classifer tells us if a comment is 1-star or not? is 2-star or not? etc. "
      ]
    },
    {
      "cell_type": "code",
      "metadata": {
        "id": "yOFY1ghdg8qD",
        "colab_type": "code",
        "colab": {}
      },
      "source": [
        "def evaluate_svm_model_one_vs_rest(X_train, y_train, X_test, y_test):\n",
        "    clf = svm.SVC(decision_function_shape='ovr')\n",
        "    clf.fit(X_train,y_train)\n",
        "    return clf.score(X_test, y_test)"
      ],
      "execution_count": null,
      "outputs": []
    },
    {
      "cell_type": "markdown",
      "metadata": {
        "id": "rwT7xa7TY7ov",
        "colab_type": "text"
      },
      "source": [
        "The accuracies of OvR and OvO SVMs are the both above 75%."
      ]
    },
    {
      "cell_type": "code",
      "metadata": {
        "id": "JhC3BdktW_cL",
        "colab_type": "code",
        "colab": {
          "base_uri": "https://localhost:8080/",
          "height": 34
        },
        "outputId": "cb9f68d4-173b-472b-c50a-3562c62dd8d7"
      },
      "source": [
        "# Let's evaluate the OvO SVM\n",
        "\n",
        "evaluate_svm_model_one_vs_rest(X_train, y_train, X_test, y_test)"
      ],
      "execution_count": null,
      "outputs": [
        {
          "output_type": "execute_result",
          "data": {
            "text/plain": [
              "0.7582"
            ]
          },
          "metadata": {
            "tags": []
          },
          "execution_count": 24
        }
      ]
    },
    {
      "cell_type": "markdown",
      "metadata": {
        "id": "Mu4IJJZ8VTRo",
        "colab_type": "text"
      },
      "source": [
        "### 1.0.3 Neural Network with Keras\n",
        "\n",
        "High Energy Ahead! Warning!\n",
        "\n",
        "Let's try one of the state-of-the-art algorithms for Natural Language Processing and Computer Vision---the Neural Network. It is a very complex model that contains multiple layers, so it tends to be too difficult to interpret. Nonetheless, it works very well, and it's promising to learn more about this algorithm. In addition, there is a derivative of Neural Network called Recurrent Neural Network. It not only has everything from the Neural Network, but also take the squences of words in a review into account. However, since our data's original presentation is count-bag-of-word, we cannot retrieve the sequence.  "
      ]
    },
    {
      "cell_type": "code",
      "metadata": {
        "id": "4p4sR1DKholg",
        "colab_type": "code",
        "colab": {}
      },
      "source": [
        "# Import packages for Neural Network\n",
        "\n",
        "from keras.models import Sequential\n",
        "from keras.layers import Dense, Dropout\n",
        "from sklearn.metrics import accuracy_score\n",
        "\n",
        "def evaluate_nn_model(X_train, y_train, X_test, y_test):\n",
        "  # Design the layers\n",
        "\n",
        "  # Random Dropout to prevent overfitting\n",
        "  model = Sequential()\n",
        "  model.add(Dropout(0.1, input_shape=(40,)))\n",
        "\n",
        "  # Core Layes\n",
        "  model.add(Dense(120, activation='relu'))\n",
        "  model.add(Dense(60, activation='relu'))\n",
        "  model.add(Dense(5, activation='softmax'))\n",
        "\n",
        "  # Configures the model for training\n",
        "  model.compile(loss='categorical_crossentropy', optimizer='adam', metrics=['accuracy'])\n",
        "  accs = model.fit(X_train, y_train, epochs = 30, batch_size = 64, validation_split = 0.2)\n",
        "\n",
        "  return accs, model"
      ],
      "execution_count": null,
      "outputs": []
    },
    {
      "cell_type": "code",
      "metadata": {
        "id": "Eh35bDDDpVKf",
        "colab_type": "code",
        "colab": {
          "base_uri": "https://localhost:8080/",
          "height": 1000
        },
        "outputId": "f4e97071-bbaa-46c4-b248-d5c60973320b"
      },
      "source": [
        "accuracies, nn_model= evaluate_nn_model(X_train_nn, y_train_nn, X_test_nn, y_test_nn)"
      ],
      "execution_count": null,
      "outputs": [
        {
          "output_type": "stream",
          "text": [
            "Train on 64000 samples, validate on 16000 samples\n",
            "Epoch 1/30\n",
            "64000/64000 [==============================] - 5s 85us/step - loss: 0.7647 - acc: 0.7419 - val_loss: 0.6122 - val_acc: 0.7788\n",
            "Epoch 2/30\n",
            "64000/64000 [==============================] - 5s 81us/step - loss: 0.6372 - acc: 0.7730 - val_loss: 0.5886 - val_acc: 0.7886\n",
            "Epoch 3/30\n",
            "64000/64000 [==============================] - 5s 79us/step - loss: 0.6152 - acc: 0.7805 - val_loss: 0.5793 - val_acc: 0.7897\n",
            "Epoch 4/30\n",
            "64000/64000 [==============================] - 5s 80us/step - loss: 0.5964 - acc: 0.7877 - val_loss: 0.5723 - val_acc: 0.7939\n",
            "Epoch 5/30\n",
            "64000/64000 [==============================] - 5s 80us/step - loss: 0.5853 - acc: 0.7921 - val_loss: 0.5645 - val_acc: 0.7961\n",
            "Epoch 6/30\n",
            "64000/64000 [==============================] - 5s 80us/step - loss: 0.5778 - acc: 0.7948 - val_loss: 0.5498 - val_acc: 0.8019\n",
            "Epoch 7/30\n",
            "64000/64000 [==============================] - 5s 80us/step - loss: 0.5713 - acc: 0.7972 - val_loss: 0.5477 - val_acc: 0.8035\n",
            "Epoch 8/30\n",
            "64000/64000 [==============================] - 5s 82us/step - loss: 0.5656 - acc: 0.7986 - val_loss: 0.5490 - val_acc: 0.8047\n",
            "Epoch 9/30\n",
            "64000/64000 [==============================] - 5s 81us/step - loss: 0.5603 - acc: 0.8012 - val_loss: 0.5410 - val_acc: 0.8040\n",
            "Epoch 10/30\n",
            "64000/64000 [==============================] - 5s 81us/step - loss: 0.5578 - acc: 0.8021 - val_loss: 0.5412 - val_acc: 0.8054\n",
            "Epoch 11/30\n",
            "64000/64000 [==============================] - 5s 80us/step - loss: 0.5514 - acc: 0.8040 - val_loss: 0.5399 - val_acc: 0.8074\n",
            "Epoch 12/30\n",
            "64000/64000 [==============================] - 5s 81us/step - loss: 0.5498 - acc: 0.8036 - val_loss: 0.5340 - val_acc: 0.8093\n",
            "Epoch 13/30\n",
            "64000/64000 [==============================] - 5s 81us/step - loss: 0.5465 - acc: 0.8050 - val_loss: 0.5363 - val_acc: 0.8068\n",
            "Epoch 14/30\n",
            "64000/64000 [==============================] - 5s 81us/step - loss: 0.5462 - acc: 0.8041 - val_loss: 0.5314 - val_acc: 0.8087\n",
            "Epoch 15/30\n",
            "64000/64000 [==============================] - 5s 80us/step - loss: 0.5425 - acc: 0.8058 - val_loss: 0.5368 - val_acc: 0.8084\n",
            "Epoch 16/30\n",
            "64000/64000 [==============================] - 5s 80us/step - loss: 0.5404 - acc: 0.8072 - val_loss: 0.5292 - val_acc: 0.8099\n",
            "Epoch 17/30\n",
            "64000/64000 [==============================] - 5s 81us/step - loss: 0.5394 - acc: 0.8076 - val_loss: 0.5354 - val_acc: 0.8099\n",
            "Epoch 18/30\n",
            "64000/64000 [==============================] - 5s 83us/step - loss: 0.5360 - acc: 0.8079 - val_loss: 0.5279 - val_acc: 0.8095\n",
            "Epoch 19/30\n",
            "64000/64000 [==============================] - 5s 82us/step - loss: 0.5349 - acc: 0.8079 - val_loss: 0.5258 - val_acc: 0.8108\n",
            "Epoch 20/30\n",
            "64000/64000 [==============================] - 5s 80us/step - loss: 0.5355 - acc: 0.8096 - val_loss: 0.5339 - val_acc: 0.8093\n",
            "Epoch 21/30\n",
            "64000/64000 [==============================] - 5s 80us/step - loss: 0.5321 - acc: 0.8109 - val_loss: 0.5289 - val_acc: 0.8104\n",
            "Epoch 22/30\n",
            "64000/64000 [==============================] - 5s 83us/step - loss: 0.5312 - acc: 0.8095 - val_loss: 0.5290 - val_acc: 0.8087\n",
            "Epoch 23/30\n",
            "64000/64000 [==============================] - 5s 82us/step - loss: 0.5313 - acc: 0.8094 - val_loss: 0.5253 - val_acc: 0.8110\n",
            "Epoch 24/30\n",
            "64000/64000 [==============================] - 5s 80us/step - loss: 0.5296 - acc: 0.8096 - val_loss: 0.5258 - val_acc: 0.8110\n",
            "Epoch 25/30\n",
            "64000/64000 [==============================] - 5s 78us/step - loss: 0.5274 - acc: 0.8107 - val_loss: 0.5247 - val_acc: 0.8112\n",
            "Epoch 26/30\n",
            "64000/64000 [==============================] - 5s 79us/step - loss: 0.5255 - acc: 0.8124 - val_loss: 0.5248 - val_acc: 0.8096\n",
            "Epoch 27/30\n",
            "64000/64000 [==============================] - 5s 80us/step - loss: 0.5245 - acc: 0.8103 - val_loss: 0.5297 - val_acc: 0.8089\n",
            "Epoch 28/30\n",
            "64000/64000 [==============================] - 5s 80us/step - loss: 0.5252 - acc: 0.8118 - val_loss: 0.5236 - val_acc: 0.8090\n",
            "Epoch 29/30\n",
            "64000/64000 [==============================] - 5s 80us/step - loss: 0.5226 - acc: 0.8114 - val_loss: 0.5260 - val_acc: 0.8116\n",
            "Epoch 30/30\n",
            "64000/64000 [==============================] - 5s 80us/step - loss: 0.5214 - acc: 0.8120 - val_loss: 0.5235 - val_acc: 0.8128\n"
          ],
          "name": "stdout"
        }
      ]
    },
    {
      "cell_type": "markdown",
      "metadata": {
        "id": "3sZQOpL_bCHq",
        "colab_type": "text"
      },
      "source": [
        "Let's take a look at the structure of our model!"
      ]
    },
    {
      "cell_type": "code",
      "metadata": {
        "id": "fhZhwXBxa3gj",
        "colab_type": "code",
        "colab": {
          "base_uri": "https://localhost:8080/",
          "height": 466
        },
        "outputId": "72e57881-a9b4-4e40-d719-5b171a1aa5bd"
      },
      "source": [
        "#Let's take a look at our model structure\n",
        "\n",
        "from keras.utils import plot_model\n",
        "plot_model(nn_model)"
      ],
      "execution_count": null,
      "outputs": [
        {
          "output_type": "execute_result",
          "data": {
            "image/png": "[encoded data removed]",
            "text/plain": [
              "<IPython.core.display.Image object>"
            ]
          },
          "metadata": {
            "tags": []
          },
          "execution_count": 31
        }
      ]
    },
    {
      "cell_type": "markdown",
      "metadata": {
        "id": "2KJKxQ5eX5kz",
        "colab_type": "text"
      },
      "source": [
        "How does NN makes decisions? The next two cell reveal this information. NN returns a probability of a comment belonging to each of the 5 labels. We will choose the one with highest probability."
      ]
    },
    {
      "cell_type": "code",
      "metadata": {
        "id": "UALm567UNC47",
        "colab_type": "code",
        "colab": {
          "base_uri": "https://localhost:8080/",
          "height": 34
        },
        "outputId": "120bbfa9-da52-4fa2-c3a8-6878143263b7"
      },
      "source": [
        "#Explain how NN predicts\n",
        "\n",
        "pred = nn_model.predict(X_test_nn)\n",
        "print(\"The prediction looks like this: \", pred[0])\n",
        "labels = [1,2,3,4,5]\n",
        "pred = [labels[np.argmax(item)] for item in pred]"
      ],
      "execution_count": null,
      "outputs": [
        {
          "output_type": "stream",
          "text": [
            "The prediction looks like this:  [4.0715584e-03 9.8431695e-01 5.9470045e-04 8.5295066e-03 2.4872764e-03]\n"
          ],
          "name": "stdout"
        }
      ]
    },
    {
      "cell_type": "markdown",
      "metadata": {
        "id": "aLouGMF1aLF7",
        "colab_type": "text"
      },
      "source": [
        "Yea, above 81%! The performance of Neural Network is really good! The great performance is achieved by the complexity of the model. Should we use a complex, multi-layer models all the time? The answer is **It depends**. Text tends to be one of difficult kinds of data to analyze. Therefore, I think NN is a great model which serves our purpose!"
      ]
    },
    {
      "cell_type": "code",
      "metadata": {
        "id": "aovaLOjROSVr",
        "colab_type": "code",
        "colab": {
          "base_uri": "https://localhost:8080/",
          "height": 34
        },
        "outputId": "d4cae55f-635b-42a8-84c7-c53e3b30e1cc"
      },
      "source": [
        "accuracy_score(pred, y_test)"
      ],
      "execution_count": null,
      "outputs": [
        {
          "output_type": "execute_result",
          "data": {
            "text/plain": [
              "0.81725"
            ]
          },
          "metadata": {
            "tags": []
          },
          "execution_count": 30
        }
      ]
    },
    {
      "cell_type": "markdown",
      "metadata": {
        "id": "p6mSt2gybPqs",
        "colab_type": "text"
      },
      "source": [
        "We can also take a look at how losses change as number of epoches increases. We only ran 30 epoches."
      ]
    },
    {
      "cell_type": "code",
      "metadata": {
        "id": "S2ZmHAU0DyV6",
        "colab_type": "code",
        "colab": {
          "base_uri": "https://localhost:8080/",
          "height": 281
        },
        "outputId": "2f100564-ca66-4265-fff3-4c682c5d1b28"
      },
      "source": [
        "plt.title('Loss')\n",
        "plt.plot(accuracies.history['loss'], label='train')\n",
        "plt.plot(accuracies.history['val_loss'], label='test')\n",
        "plt.legend()\n",
        "plt.show();"
      ],
      "execution_count": null,
      "outputs": [
        {
          "output_type": "display_data",
          "data": {
            "image/png": "[encoded data removed]",
            "text/plain": [
              "<Figure size 432x288 with 1 Axes>"
            ]
          },
          "metadata": {
            "tags": []
          }
        }
      ]
    },
    {
      "cell_type": "markdown",
      "metadata": {
        "id": "fi33ZLrfzx1V",
        "colab_type": "text"
      },
      "source": [
        "#2.0 Timestamp Exploratory Data Analysis\n",
        "\n",
        "We have seen many fancy model in the previous section, but don't forget we have another valuable piece of information we haven't used yet: \n",
        "the **timestamp** of each review. Lets dig in to it!"
      ]
    },
    {
      "cell_type": "markdown",
      "metadata": {
        "id": "Z9V9UhSWdQD-",
        "colab_type": "text"
      },
      "source": [
        "### 2.0.1 Exploration on Years\n",
        "The first thing we wanna do is to extract the year and month information from the datetime objects. Of course, we can also extract hour information (possibly not minute and seconds lol), but using year and month for now is a great first step. Let's take a look."
      ]
    },
    {
      "cell_type": "code",
      "metadata": {
        "id": "bYzRupwQIqaz",
        "colab_type": "code",
        "colab": {}
      },
      "source": [
        "#Extract Year/Month Data\n",
        "\n",
        "review_times_year = reviews_times.apply(lambda x: x.year)\n",
        "review_times_month = reviews_times.apply(lambda x: x.month)"
      ],
      "execution_count": null,
      "outputs": []
    },
    {
      "cell_type": "markdown",
      "metadata": {
        "id": "BPvI16PteBN7",
        "colab_type": "text"
      },
      "source": [
        "Let's look at **year** first. Oops! For some years, we have limited data, and over-generization is a bad practice. For instance, we only have 3 samples in 2001, 25 samples in 2002, and 57 samples in 2003. It is now wise to generalize the pattern of a full year only based on few samples."
      ]
    },
    {
      "cell_type": "code",
      "metadata": {
        "id": "47HnmZuSaU7n",
        "colab_type": "code",
        "colab": {
          "base_uri": "https://localhost:8080/",
          "height": 282
        },
        "outputId": "2e775791-da93-4a4f-e40f-cd2c5402d7ac"
      },
      "source": [
        "review_times_year.value_counts(sort=True, ascending=True).plot(kind='barh')"
      ],
      "execution_count": null,
      "outputs": [
        {
          "output_type": "execute_result",
          "data": {
            "text/plain": [
              "<matplotlib.axes._subplots.AxesSubplot at 0x7f80a844cef0>"
            ]
          },
          "metadata": {
            "tags": []
          },
          "execution_count": 34
        },
        {
          "output_type": "display_data",
          "data": {
            "image/png": "[encoded data removed]",
            "text/plain": [
              "<Figure size 432x288 with 1 Axes>"
            ]
          },
          "metadata": {
            "tags": []
          }
        }
      ]
    },
    {
      "cell_type": "markdown",
      "metadata": {
        "id": "l2Tj8akDd_nJ",
        "colab_type": "text"
      },
      "source": [
        "Thus, we choose to keep the years with at least 500 reviews (year 2008~2014). With certainly amount of data, we are more confident before making any claims."
      ]
    },
    {
      "cell_type": "code",
      "metadata": {
        "id": "lR-CJzcAcFHH",
        "colab_type": "code",
        "colab": {}
      },
      "source": [
        "# Count >= 500 year 2008-2014\n",
        "\n",
        "# Using Text Data Combimed with Year data\n",
        "\n",
        "qualified_year_X = []\n",
        "qualified_year_y = []\n",
        "qualified_year_reference = []\n",
        "\n",
        "X = dense\n",
        "\n",
        "# Let's store all the data from year 2008 to year 2014\n",
        "zipped = list(zip(X, review_times_year, y))\n",
        "for i in range(len(zipped)):\n",
        "  if zipped[i][1] >= 2008:\n",
        "    qualified_year_X.append(zipped[i][0])\n",
        "    qualified_year_reference.append(zipped[i][1])\n",
        "    qualified_year_y.append(zipped[i][2])"
      ],
      "execution_count": null,
      "outputs": []
    },
    {
      "cell_type": "code",
      "metadata": {
        "id": "MCZgJcZCjy3A",
        "colab_type": "code",
        "colab": {
          "base_uri": "https://localhost:8080/",
          "height": 34
        },
        "outputId": "8ba7344d-2108-4729-8f25-7d4ed5648157"
      },
      "source": [
        "# Extract Data By Year\n",
        "\n",
        "X_2008 = []\n",
        "y_2008 = []\n",
        "\n",
        "X_2009 = []\n",
        "y_2009 = []\n",
        "\n",
        "X_2010 = []\n",
        "y_2010 = []\n",
        "\n",
        "X_2011 = []\n",
        "y_2011 = []\n",
        "\n",
        "X_2012 = []\n",
        "y_2012 = []\n",
        "\n",
        "X_2013 = []\n",
        "y_2013 = []\n",
        "\n",
        "X_2014 = []\n",
        "y_2014 = []\n",
        "\n",
        "zipped_qualified = list(zip(qualified_year_X, qualified_year_reference, qualified_year_y))\n",
        "for item in zipped_qualified:\n",
        "  if item[1] == 2008:\n",
        "    X_2008.append(item[0])\n",
        "    y_2008.append(item[2])\n",
        "  if item[1] == 2009:\n",
        "    X_2009.append(item[0])\n",
        "    y_2009.append(item[2])\n",
        "  if item[1] == 2010:\n",
        "    X_2010.append(item[0])\n",
        "    y_2010.append(item[2])\n",
        "  if item[1] == 2011:\n",
        "    X_2011.append(item[0])\n",
        "    y_2011.append(item[2])\n",
        "  if item[1] == 2012:\n",
        "    X_2012.append(item[0])\n",
        "    y_2012.append(item[2])\n",
        "  if item[1] == 2013:\n",
        "    X_2013.append(item[0])\n",
        "    y_2013.append(item[2])\n",
        "  if item[1] == 2014:\n",
        "    X_2014.append(item[0])\n",
        "    y_2014.append(item[2])\n",
        "  \n",
        "print(\"Check if we miss any samples: \", not (len(zipped_qualified) == len(X_2008) + len(X_2009) + len(X_2010) + len(X_2011) + len(X_2012) + len(X_2013) + len(X_2014)))"
      ],
      "execution_count": null,
      "outputs": [
        {
          "output_type": "stream",
          "text": [
            "Check if we miss any samples:  False\n"
          ],
          "name": "stdout"
        }
      ]
    },
    {
      "cell_type": "markdown",
      "metadata": {
        "id": "XjtILv4RfQyl",
        "colab_type": "text"
      },
      "source": [
        "OK! Now let's check if the ratio of different ratings are consistant throughout the year."
      ]
    },
    {
      "cell_type": "code",
      "metadata": {
        "id": "510XYlZNtVbj",
        "colab_type": "code",
        "colab": {
          "base_uri": "https://localhost:8080/",
          "height": 314
        },
        "outputId": "3986d8f2-79ff-4e62-91c8-83b4284b3bcd"
      },
      "source": [
        "from collections import Counter\n",
        "\n",
        "rating_counts_2008 = tuple([val/sum(list(Counter(y_2008).values())) for val in list(Counter(y_2008).values())])\n",
        "rating_counts_2009 = tuple([val/sum(list(Counter(y_2009).values())) for val in list(Counter(y_2009).values())])\n",
        "rating_counts_2010 = tuple([val/sum(list(Counter(y_2010).values())) for val in list(Counter(y_2010).values())])\n",
        "rating_counts_2011 = tuple([val/sum(list(Counter(y_2011).values())) for val in list(Counter(y_2011).values())])\n",
        "rating_counts_2012 = tuple([val/sum(list(Counter(y_2012).values())) for val in list(Counter(y_2012).values())])\n",
        "rating_counts_2013 = tuple([val/sum(list(Counter(y_2013).values())) for val in list(Counter(y_2013).values())])\n",
        "rating_counts_2014 = tuple([val/sum(list(Counter(y_2014).values())) for val in list(Counter(y_2014).values())])\n",
        "\n",
        "from matplotlib.pyplot import figure\n",
        "figure(num=None, figsize=(16, 12), dpi=80, facecolor='w', edgecolor='k')\n",
        "\n",
        "# create plot\n",
        "n_groups = 5\n",
        "fig, ax = plt.subplots()\n",
        "index = np.arange(n_groups)\n",
        "bar_width = 0.12\n",
        "opacity = 0.8\n",
        "\n",
        "rects1 = plt.bar(index, rating_counts_2008, bar_width,\n",
        "alpha=opacity,\n",
        "color='b',\n",
        "label='2008')\n",
        "\n",
        "rects2 = plt.bar(index + bar_width, rating_counts_2009, bar_width,\n",
        "alpha=opacity,\n",
        "color='r',\n",
        "label='2009')\n",
        "\n",
        "rects3 = plt.bar(index + bar_width*2, rating_counts_2010, bar_width,\n",
        "alpha=opacity,\n",
        "color='c',\n",
        "label='2010')\n",
        "\n",
        "rects4 = plt.bar(index + bar_width*3, rating_counts_2011, bar_width,\n",
        "alpha=opacity,\n",
        "color='m',\n",
        "label='2011')\n",
        "\n",
        "rects5 = plt.bar(index + bar_width*4, rating_counts_2012, bar_width,\n",
        "alpha=opacity,\n",
        "color='y',\n",
        "label='2012')\n",
        "\n",
        "rects6 = plt.bar(index + bar_width*5, rating_counts_2013, bar_width,\n",
        "alpha=opacity,\n",
        "color='g',\n",
        "label='2013')\n",
        "\n",
        "rects7 = plt.bar(index + bar_width*6, rating_counts_2014, bar_width,\n",
        "alpha=opacity,\n",
        "color='k',\n",
        "label='2014')\n",
        "\n",
        "plt.xlabel('Ratings')\n",
        "plt.ylabel('Ratios')\n",
        "plt.title('Ratings by Years')\n",
        "plt.xticks(index + bar_width, ('1', '2', '3', '4', '5'))\n",
        "plt.legend()\n",
        "\n",
        "plt.tight_layout()\n",
        "plt.show()"
      ],
      "execution_count": null,
      "outputs": [
        {
          "output_type": "display_data",
          "data": {
            "text/plain": [
              "<Figure size 1280x960 with 0 Axes>"
            ]
          },
          "metadata": {
            "tags": []
          }
        },
        {
          "output_type": "display_data",
          "data": {
            "image/png": "[encoded data removed]",
            "text/plain": [
              "<Figure size 432x288 with 1 Axes>"
            ]
          },
          "metadata": {
            "tags": []
          }
        }
      ]
    },
    {
      "cell_type": "markdown",
      "metadata": {
        "id": "--P7onnSfu_W",
        "colab_type": "text"
      },
      "source": [
        "Probably not. We find that the ratio of 1-star ratings are similar across the years. Nevertheless, for the other ratings, the distribution varies throughout the years. For instance, as year increases, the ratio of 3-star ratings increases and the ratio of 5-star ratings decreases.\n",
        "This tells us year may be a power piece of information that we can add to our model."
      ]
    },
    {
      "cell_type": "markdown",
      "metadata": {
        "id": "85rnF2CjgcE1",
        "colab_type": "text"
      },
      "source": [
        "Before that, there is something interesting we could do. Is it possible for us to use model build with data in, for example, 2008, to predict the labels with data in the future years? How well will it perform? Let's try it out! For each year between 2008 to 2011, we will build NN models using the same structure as in 1.0.3."
      ]
    },
    {
      "cell_type": "code",
      "metadata": {
        "id": "vSyJVnGVsVXb",
        "colab_type": "code",
        "colab": {}
      },
      "source": [
        "# Adaptation of the Code for this Purpose\n",
        "\n",
        "def evaluate_nn_model_year(X, y):\n",
        "  # Train-Test Split\n",
        "  X = np.asarray(X)\n",
        "  y = np.asarray(y)\n",
        "  X_train, X_test, y_train, y_test = ms.train_test_split(X, y, test_size=0.2, random_state = 1911)\n",
        "  y_train = pd.get_dummies(y_train).values\n",
        "  \n",
        "  # Design the layers\n",
        "  # Random Dropout to prevent overfitting\n",
        "  model = Sequential()\n",
        "  model.add(Dropout(0.1, input_shape=(40,)))\n",
        "\n",
        "  # Core Layes\n",
        "  model.add(Dense(120, activation='relu'))\n",
        "  model.add(Dense(60, activation='relu'))\n",
        "  model.add(Dense(5, activation='softmax'))\n",
        "\n",
        "  # Configures the model for training\n",
        "  model.compile(loss='categorical_crossentropy', optimizer='adam', metrics=['accuracy'])\n",
        "  model.fit(X_train, y_train, epochs = 50, batch_size = 64, validation_split = 0.2)\n",
        "\n",
        "  pred = model.predict(X_test)\n",
        "  labels = [1,2,3,4,5]\n",
        "  pred = [labels[np.argmax(item)] for item in pred]\n",
        "  test_acc = accuracy_score(pred, y_test)\n",
        "  print(\"The test accuracy is: \", test_acc)\n",
        "  return model, test_acc"
      ],
      "execution_count": null,
      "outputs": []
    },
    {
      "cell_type": "markdown",
      "metadata": {
        "id": "PkZwPnFajkZP",
        "colab_type": "text"
      },
      "source": [
        "#### 2.0.1.1 Neural Network Model for 2008"
      ]
    },
    {
      "cell_type": "code",
      "metadata": {
        "id": "yd_FgZhStMFf",
        "colab_type": "code",
        "colab": {
          "base_uri": "https://localhost:8080/",
          "height": 1000
        },
        "outputId": "d5d14b4f-9928-4bab-e094-ba1764d88118"
      },
      "source": [
        "nn_model_2008, test_acc_2008 = evaluate_nn_model_year(X_2008, y_2008)"
      ],
      "execution_count": null,
      "outputs": [
        {
          "output_type": "stream",
          "text": [
            "Train on 555 samples, validate on 139 samples\n",
            "Epoch 1/50\n",
            "555/555 [==============================] - 0s 782us/step - loss: 1.5956 - acc: 0.3748 - val_loss: 1.5751 - val_acc: 0.4532\n",
            "Epoch 2/50\n",
            "555/555 [==============================] - 0s 95us/step - loss: 1.5582 - acc: 0.4541 - val_loss: 1.5405 - val_acc: 0.4317\n",
            "Epoch 3/50\n",
            "555/555 [==============================] - 0s 90us/step - loss: 1.5142 - acc: 0.4739 - val_loss: 1.4972 - val_acc: 0.4460\n",
            "Epoch 4/50\n",
            "555/555 [==============================] - 0s 122us/step - loss: 1.4603 - acc: 0.4937 - val_loss: 1.4448 - val_acc: 0.4748\n",
            "Epoch 5/50\n",
            "555/555 [==============================] - 0s 92us/step - loss: 1.3932 - acc: 0.5586 - val_loss: 1.3847 - val_acc: 0.5180\n",
            "Epoch 6/50\n",
            "555/555 [==============================] - 0s 96us/step - loss: 1.3216 - acc: 0.5928 - val_loss: 1.3150 - val_acc: 0.5827\n",
            "Epoch 7/50\n",
            "555/555 [==============================] - 0s 89us/step - loss: 1.2441 - acc: 0.6288 - val_loss: 1.2406 - val_acc: 0.6043\n",
            "Epoch 8/50\n",
            "555/555 [==============================] - 0s 87us/step - loss: 1.1556 - acc: 0.6342 - val_loss: 1.1577 - val_acc: 0.6403\n",
            "Epoch 9/50\n",
            "555/555 [==============================] - 0s 92us/step - loss: 1.0770 - acc: 0.6685 - val_loss: 1.0751 - val_acc: 0.6691\n",
            "Epoch 10/50\n",
            "555/555 [==============================] - 0s 96us/step - loss: 0.9892 - acc: 0.6937 - val_loss: 1.0024 - val_acc: 0.6906\n",
            "Epoch 11/50\n",
            "555/555 [==============================] - 0s 92us/step - loss: 0.9146 - acc: 0.7009 - val_loss: 0.9391 - val_acc: 0.6763\n",
            "Epoch 12/50\n",
            "555/555 [==============================] - 0s 93us/step - loss: 0.8481 - acc: 0.7207 - val_loss: 0.8821 - val_acc: 0.6906\n",
            "Epoch 13/50\n",
            "555/555 [==============================] - 0s 83us/step - loss: 0.8050 - acc: 0.7423 - val_loss: 0.8410 - val_acc: 0.7122\n",
            "Epoch 14/50\n",
            "555/555 [==============================] - 0s 95us/step - loss: 0.7519 - acc: 0.7532 - val_loss: 0.8073 - val_acc: 0.6835\n",
            "Epoch 15/50\n",
            "555/555 [==============================] - 0s 114us/step - loss: 0.7207 - acc: 0.7694 - val_loss: 0.7657 - val_acc: 0.7122\n",
            "Epoch 16/50\n",
            "555/555 [==============================] - 0s 94us/step - loss: 0.6931 - acc: 0.7748 - val_loss: 0.7421 - val_acc: 0.7050\n",
            "Epoch 17/50\n",
            "555/555 [==============================] - 0s 89us/step - loss: 0.6731 - acc: 0.7874 - val_loss: 0.7212 - val_acc: 0.7122\n",
            "Epoch 18/50\n",
            "555/555 [==============================] - 0s 84us/step - loss: 0.6444 - acc: 0.7838 - val_loss: 0.6998 - val_acc: 0.7338\n",
            "Epoch 19/50\n",
            "555/555 [==============================] - 0s 91us/step - loss: 0.6234 - acc: 0.7946 - val_loss: 0.6776 - val_acc: 0.7554\n",
            "Epoch 20/50\n",
            "555/555 [==============================] - 0s 101us/step - loss: 0.6096 - acc: 0.7874 - val_loss: 0.6565 - val_acc: 0.7482\n",
            "Epoch 21/50\n",
            "555/555 [==============================] - 0s 91us/step - loss: 0.5871 - acc: 0.7856 - val_loss: 0.6476 - val_acc: 0.7626\n",
            "Epoch 22/50\n",
            "555/555 [==============================] - 0s 88us/step - loss: 0.5727 - acc: 0.7856 - val_loss: 0.6240 - val_acc: 0.7770\n",
            "Epoch 23/50\n",
            "555/555 [==============================] - 0s 99us/step - loss: 0.5391 - acc: 0.8288 - val_loss: 0.6182 - val_acc: 0.7626\n",
            "Epoch 24/50\n",
            "555/555 [==============================] - 0s 90us/step - loss: 0.5543 - acc: 0.8000 - val_loss: 0.6199 - val_acc: 0.7698\n",
            "Epoch 25/50\n",
            "555/555 [==============================] - 0s 88us/step - loss: 0.5528 - acc: 0.8126 - val_loss: 0.5907 - val_acc: 0.7842\n",
            "Epoch 26/50\n",
            "555/555 [==============================] - 0s 96us/step - loss: 0.5557 - acc: 0.8036 - val_loss: 0.5961 - val_acc: 0.7842\n",
            "Epoch 27/50\n",
            "555/555 [==============================] - 0s 87us/step - loss: 0.5181 - acc: 0.8180 - val_loss: 0.5855 - val_acc: 0.7914\n",
            "Epoch 28/50\n",
            "555/555 [==============================] - 0s 85us/step - loss: 0.5188 - acc: 0.8198 - val_loss: 0.5721 - val_acc: 0.7914\n",
            "Epoch 29/50\n",
            "555/555 [==============================] - 0s 104us/step - loss: 0.5200 - acc: 0.8126 - val_loss: 0.5686 - val_acc: 0.7914\n",
            "Epoch 30/50\n",
            "555/555 [==============================] - 0s 104us/step - loss: 0.5040 - acc: 0.8306 - val_loss: 0.5739 - val_acc: 0.7842\n",
            "Epoch 31/50\n",
            "555/555 [==============================] - 0s 88us/step - loss: 0.4686 - acc: 0.8396 - val_loss: 0.5494 - val_acc: 0.8058\n",
            "Epoch 32/50\n",
            "555/555 [==============================] - 0s 86us/step - loss: 0.4902 - acc: 0.8018 - val_loss: 0.5509 - val_acc: 0.7914\n",
            "Epoch 33/50\n",
            "555/555 [==============================] - 0s 89us/step - loss: 0.4996 - acc: 0.8144 - val_loss: 0.5584 - val_acc: 0.8058\n",
            "Epoch 34/50\n",
            "555/555 [==============================] - 0s 106us/step - loss: 0.4842 - acc: 0.8342 - val_loss: 0.5666 - val_acc: 0.7914\n",
            "Epoch 35/50\n",
            "555/555 [==============================] - 0s 109us/step - loss: 0.4766 - acc: 0.8234 - val_loss: 0.5549 - val_acc: 0.8129\n",
            "Epoch 36/50\n",
            "555/555 [==============================] - 0s 86us/step - loss: 0.4685 - acc: 0.8252 - val_loss: 0.5602 - val_acc: 0.7842\n",
            "Epoch 37/50\n",
            "555/555 [==============================] - 0s 95us/step - loss: 0.4813 - acc: 0.8198 - val_loss: 0.5361 - val_acc: 0.8201\n",
            "Epoch 38/50\n",
            "555/555 [==============================] - 0s 90us/step - loss: 0.4753 - acc: 0.8198 - val_loss: 0.5507 - val_acc: 0.8058\n",
            "Epoch 39/50\n",
            "555/555 [==============================] - 0s 83us/step - loss: 0.4451 - acc: 0.8432 - val_loss: 0.5507 - val_acc: 0.8129\n",
            "Epoch 40/50\n",
            "555/555 [==============================] - 0s 93us/step - loss: 0.4724 - acc: 0.8216 - val_loss: 0.5342 - val_acc: 0.8273\n",
            "Epoch 41/50\n",
            "555/555 [==============================] - 0s 108us/step - loss: 0.4648 - acc: 0.8378 - val_loss: 0.5458 - val_acc: 0.8129\n",
            "Epoch 42/50\n",
            "555/555 [==============================] - 0s 97us/step - loss: 0.4680 - acc: 0.8270 - val_loss: 0.5472 - val_acc: 0.8201\n",
            "Epoch 43/50\n",
            "555/555 [==============================] - 0s 87us/step - loss: 0.4695 - acc: 0.8342 - val_loss: 0.5489 - val_acc: 0.8201\n",
            "Epoch 44/50\n",
            "555/555 [==============================] - 0s 89us/step - loss: 0.4447 - acc: 0.8324 - val_loss: 0.5581 - val_acc: 0.8058\n",
            "Epoch 45/50\n",
            "555/555 [==============================] - 0s 93us/step - loss: 0.4914 - acc: 0.8342 - val_loss: 0.5315 - val_acc: 0.8201\n",
            "Epoch 46/50\n",
            "555/555 [==============================] - 0s 91us/step - loss: 0.4435 - acc: 0.8306 - val_loss: 0.5436 - val_acc: 0.8129\n",
            "Epoch 47/50\n",
            "555/555 [==============================] - 0s 112us/step - loss: 0.4518 - acc: 0.8432 - val_loss: 0.5453 - val_acc: 0.8129\n",
            "Epoch 48/50\n",
            "555/555 [==============================] - 0s 107us/step - loss: 0.4653 - acc: 0.8216 - val_loss: 0.5312 - val_acc: 0.8273\n",
            "Epoch 49/50\n",
            "555/555 [==============================] - 0s 88us/step - loss: 0.4423 - acc: 0.8505 - val_loss: 0.5363 - val_acc: 0.8345\n",
            "Epoch 50/50\n",
            "555/555 [==============================] - 0s 103us/step - loss: 0.4353 - acc: 0.8450 - val_loss: 0.5550 - val_acc: 0.7986\n",
            "The test accuracy is:  0.8620689655172413\n"
          ],
          "name": "stdout"
        }
      ]
    },
    {
      "cell_type": "markdown",
      "metadata": {
        "id": "PR1Eekgqh25Z",
        "colab_type": "text"
      },
      "source": [
        "The test accuracy of the model for year 2008 predicting its own data is 86.2%. Very impressive. How does it performs on future years?"
      ]
    },
    {
      "cell_type": "code",
      "metadata": {
        "id": "PsWi2H_bO32I",
        "colab_type": "code",
        "colab": {}
      },
      "source": [
        "labels = [1,2,3,4,5]\n",
        "test_acc_future = []\n",
        "\n",
        "#2009 \n",
        "\n",
        "pred_2009 = nn_model_2008.predict(np.asarray(X_2009))\n",
        "pred_2009 = [labels[np.argmax(item)] for item in pred_2009]\n",
        "test_acc_2009 = accuracy_score(pred_2009, y_2009)\n",
        "test_acc_future.append(test_acc_2009)\n",
        "\n",
        "#2010 \n",
        "\n",
        "pred_2010 = nn_model_2008.predict(np.asarray(X_2010))\n",
        "pred_2010 = [labels[np.argmax(item)] for item in pred_2010]\n",
        "test_acc_2010 = accuracy_score(pred_2010, y_2010)\n",
        "test_acc_future.append(test_acc_2010)\n",
        "\n",
        "#2011 \n",
        "\n",
        "pred_2011 = nn_model_2008.predict(np.asarray(X_2011))\n",
        "pred_2011 = [labels[np.argmax(item)] for item in pred_2011]\n",
        "test_acc_2011 = accuracy_score(pred_2011, y_2011)\n",
        "test_acc_future.append(test_acc_2011)\n",
        "\n",
        "#2012 \n",
        "\n",
        "pred_2012 = nn_model_2008.predict(np.asarray(X_2012))\n",
        "pred_2012 = [labels[np.argmax(item)] for item in pred_2012]\n",
        "test_acc_2012 = accuracy_score(pred_2012, y_2012)\n",
        "test_acc_future.append(test_acc_2012)\n",
        "\n",
        "#2013 \n",
        "\n",
        "pred_2013 = nn_model_2008.predict(np.asarray(X_2013))\n",
        "pred_2013 = [labels[np.argmax(item)] for item in pred_2013]\n",
        "test_acc_2013 = accuracy_score(pred_2013, y_2013)\n",
        "test_acc_future.append(test_acc_2013)\n",
        "\n",
        "#2014 \n",
        "\n",
        "pred_2014 = nn_model_2008.predict(np.asarray(X_2014))\n",
        "pred_2014 = [labels[np.argmax(item)] for item in pred_2014]\n",
        "test_acc_2014 = accuracy_score(pred_2014, y_2014)\n",
        "test_acc_future.append(test_acc_2014)"
      ],
      "execution_count": null,
      "outputs": []
    },
    {
      "cell_type": "markdown",
      "metadata": {
        "id": "JyEueed3iKkI",
        "colab_type": "text"
      },
      "source": [
        "Interesting. The model works well predicting the ratings from next year. In addition, the model has a great performance on the year after the next year. Let's see if the pattern holds."
      ]
    },
    {
      "cell_type": "code",
      "metadata": {
        "id": "C3Y77xRHRwA7",
        "colab_type": "code",
        "colab": {
          "base_uri": "https://localhost:8080/",
          "height": 430
        },
        "outputId": "b90ca8cb-a40e-455a-b731-35ba097dd34e"
      },
      "source": [
        "from matplotlib.pyplot import figure\n",
        "figure(num=None, figsize=(8, 6), dpi=80, facecolor='w', edgecolor='k')\n",
        "plt.plot(range(2009, 2015), test_acc_future)"
      ],
      "execution_count": null,
      "outputs": [
        {
          "output_type": "execute_result",
          "data": {
            "text/plain": [
              "[<matplotlib.lines.Line2D at 0x7f80a5eaac18>]"
            ]
          },
          "metadata": {
            "tags": []
          },
          "execution_count": 46
        },
        {
          "output_type": "display_data",
          "data": {
            "image/png": "[encoded data removed]",
            "text/plain": [
              "<Figure size 640x480 with 1 Axes>"
            ]
          },
          "metadata": {
            "tags": []
          }
        }
      ]
    },
    {
      "cell_type": "markdown",
      "metadata": {
        "id": "JHbwhuhDiblB",
        "colab_type": "text"
      },
      "source": [
        "#### 2.0.1.2 Neural Network Model for 2009"
      ]
    },
    {
      "cell_type": "code",
      "metadata": {
        "id": "9UFSPB80SuvK",
        "colab_type": "code",
        "colab": {
          "base_uri": "https://localhost:8080/",
          "height": 1000
        },
        "outputId": "2ff07633-f391-44d9-ad06-a0157925ea2e"
      },
      "source": [
        "nn_model_2009, test_acc_2009 = evaluate_nn_model_year(X_2009, y_2009)"
      ],
      "execution_count": null,
      "outputs": [
        {
          "output_type": "stream",
          "text": [
            "Train on 1006 samples, validate on 252 samples\n",
            "Epoch 1/50\n",
            "1006/1006 [==============================] - 1s 507us/step - loss: 1.5745 - acc: 0.3280 - val_loss: 1.5388 - val_acc: 0.3333\n",
            "Epoch 2/50\n",
            "1006/1006 [==============================] - 0s 94us/step - loss: 1.4947 - acc: 0.3668 - val_loss: 1.4525 - val_acc: 0.3651\n",
            "Epoch 3/50\n",
            "1006/1006 [==============================] - 0s 100us/step - loss: 1.3926 - acc: 0.3797 - val_loss: 1.3547 - val_acc: 0.4048\n",
            "Epoch 4/50\n",
            "1006/1006 [==============================] - 0s 96us/step - loss: 1.2814 - acc: 0.4950 - val_loss: 1.2417 - val_acc: 0.6151\n",
            "Epoch 5/50\n",
            "1006/1006 [==============================] - 0s 93us/step - loss: 1.1569 - acc: 0.6392 - val_loss: 1.1108 - val_acc: 0.6548\n",
            "Epoch 6/50\n",
            "1006/1006 [==============================] - 0s 92us/step - loss: 1.0217 - acc: 0.6869 - val_loss: 0.9879 - val_acc: 0.6865\n",
            "Epoch 7/50\n",
            "1006/1006 [==============================] - 0s 89us/step - loss: 0.9031 - acc: 0.7068 - val_loss: 0.8976 - val_acc: 0.7262\n",
            "Epoch 8/50\n",
            "1006/1006 [==============================] - 0s 90us/step - loss: 0.8306 - acc: 0.7396 - val_loss: 0.8099 - val_acc: 0.7063\n",
            "Epoch 9/50\n",
            "1006/1006 [==============================] - 0s 90us/step - loss: 0.7452 - acc: 0.7465 - val_loss: 0.7596 - val_acc: 0.7540\n",
            "Epoch 10/50\n",
            "1006/1006 [==============================] - 0s 85us/step - loss: 0.7063 - acc: 0.7614 - val_loss: 0.7222 - val_acc: 0.7619\n",
            "Epoch 11/50\n",
            "1006/1006 [==============================] - 0s 103us/step - loss: 0.6730 - acc: 0.7694 - val_loss: 0.6950 - val_acc: 0.7421\n",
            "Epoch 12/50\n",
            "1006/1006 [==============================] - 0s 87us/step - loss: 0.6580 - acc: 0.7724 - val_loss: 0.6743 - val_acc: 0.7778\n",
            "Epoch 13/50\n",
            "1006/1006 [==============================] - 0s 83us/step - loss: 0.6296 - acc: 0.7654 - val_loss: 0.6602 - val_acc: 0.7738\n",
            "Epoch 14/50\n",
            "1006/1006 [==============================] - 0s 84us/step - loss: 0.6220 - acc: 0.7793 - val_loss: 0.6455 - val_acc: 0.7857\n",
            "Epoch 15/50\n",
            "1006/1006 [==============================] - 0s 84us/step - loss: 0.5963 - acc: 0.7922 - val_loss: 0.6343 - val_acc: 0.7817\n",
            "Epoch 16/50\n",
            "1006/1006 [==============================] - 0s 90us/step - loss: 0.6002 - acc: 0.7823 - val_loss: 0.6230 - val_acc: 0.7817\n",
            "Epoch 17/50\n",
            "1006/1006 [==============================] - 0s 93us/step - loss: 0.6018 - acc: 0.7674 - val_loss: 0.6242 - val_acc: 0.7857\n",
            "Epoch 18/50\n",
            "1006/1006 [==============================] - 0s 81us/step - loss: 0.5781 - acc: 0.7883 - val_loss: 0.6167 - val_acc: 0.7778\n",
            "Epoch 19/50\n",
            "1006/1006 [==============================] - 0s 88us/step - loss: 0.5742 - acc: 0.7893 - val_loss: 0.6089 - val_acc: 0.7817\n",
            "Epoch 20/50\n",
            "1006/1006 [==============================] - 0s 85us/step - loss: 0.5787 - acc: 0.7942 - val_loss: 0.6106 - val_acc: 0.7817\n",
            "Epoch 21/50\n",
            "1006/1006 [==============================] - 0s 89us/step - loss: 0.5526 - acc: 0.7942 - val_loss: 0.6072 - val_acc: 0.7897\n",
            "Epoch 22/50\n",
            "1006/1006 [==============================] - 0s 92us/step - loss: 0.5571 - acc: 0.8032 - val_loss: 0.6013 - val_acc: 0.8016\n",
            "Epoch 23/50\n",
            "1006/1006 [==============================] - 0s 87us/step - loss: 0.5608 - acc: 0.7942 - val_loss: 0.6006 - val_acc: 0.7857\n",
            "Epoch 24/50\n",
            "1006/1006 [==============================] - 0s 83us/step - loss: 0.5392 - acc: 0.7982 - val_loss: 0.6035 - val_acc: 0.7817\n",
            "Epoch 25/50\n",
            "1006/1006 [==============================] - 0s 83us/step - loss: 0.5365 - acc: 0.8042 - val_loss: 0.5976 - val_acc: 0.7897\n",
            "Epoch 26/50\n",
            "1006/1006 [==============================] - 0s 94us/step - loss: 0.5670 - acc: 0.7922 - val_loss: 0.5959 - val_acc: 0.7897\n",
            "Epoch 27/50\n",
            "1006/1006 [==============================] - 0s 85us/step - loss: 0.5319 - acc: 0.8091 - val_loss: 0.5898 - val_acc: 0.7857\n",
            "Epoch 28/50\n",
            "1006/1006 [==============================] - 0s 84us/step - loss: 0.5306 - acc: 0.8022 - val_loss: 0.5973 - val_acc: 0.7817\n",
            "Epoch 29/50\n",
            "1006/1006 [==============================] - 0s 84us/step - loss: 0.5178 - acc: 0.8121 - val_loss: 0.5888 - val_acc: 0.7817\n",
            "Epoch 30/50\n",
            "1006/1006 [==============================] - 0s 94us/step - loss: 0.5289 - acc: 0.7992 - val_loss: 0.5888 - val_acc: 0.7857\n",
            "Epoch 31/50\n",
            "1006/1006 [==============================] - 0s 84us/step - loss: 0.5310 - acc: 0.7942 - val_loss: 0.5836 - val_acc: 0.7857\n",
            "Epoch 32/50\n",
            "1006/1006 [==============================] - 0s 88us/step - loss: 0.5347 - acc: 0.8062 - val_loss: 0.5843 - val_acc: 0.7976\n",
            "Epoch 33/50\n",
            "1006/1006 [==============================] - 0s 83us/step - loss: 0.5194 - acc: 0.7903 - val_loss: 0.5799 - val_acc: 0.7937\n",
            "Epoch 34/50\n",
            "1006/1006 [==============================] - 0s 93us/step - loss: 0.5256 - acc: 0.7982 - val_loss: 0.5853 - val_acc: 0.7857\n",
            "Epoch 35/50\n",
            "1006/1006 [==============================] - 0s 106us/step - loss: 0.4989 - acc: 0.8221 - val_loss: 0.5952 - val_acc: 0.7698\n",
            "Epoch 36/50\n",
            "1006/1006 [==============================] - 0s 86us/step - loss: 0.5376 - acc: 0.7992 - val_loss: 0.5793 - val_acc: 0.7817\n",
            "Epoch 37/50\n",
            "1006/1006 [==============================] - 0s 86us/step - loss: 0.5115 - acc: 0.8072 - val_loss: 0.5846 - val_acc: 0.7897\n",
            "Epoch 38/50\n",
            "1006/1006 [==============================] - 0s 94us/step - loss: 0.5198 - acc: 0.8032 - val_loss: 0.5817 - val_acc: 0.7897\n",
            "Epoch 39/50\n",
            "1006/1006 [==============================] - 0s 90us/step - loss: 0.5004 - acc: 0.8072 - val_loss: 0.5797 - val_acc: 0.7937\n",
            "Epoch 40/50\n",
            "1006/1006 [==============================] - 0s 94us/step - loss: 0.5161 - acc: 0.8052 - val_loss: 0.5804 - val_acc: 0.7976\n",
            "Epoch 41/50\n",
            "1006/1006 [==============================] - 0s 100us/step - loss: 0.5109 - acc: 0.7992 - val_loss: 0.5848 - val_acc: 0.7857\n",
            "Epoch 42/50\n",
            "1006/1006 [==============================] - 0s 94us/step - loss: 0.4999 - acc: 0.8082 - val_loss: 0.5792 - val_acc: 0.7857\n",
            "Epoch 43/50\n",
            "1006/1006 [==============================] - 0s 103us/step - loss: 0.5174 - acc: 0.8062 - val_loss: 0.5829 - val_acc: 0.7857\n",
            "Epoch 44/50\n",
            "1006/1006 [==============================] - 0s 105us/step - loss: 0.5229 - acc: 0.8072 - val_loss: 0.5803 - val_acc: 0.7857\n",
            "Epoch 45/50\n",
            "1006/1006 [==============================] - 0s 88us/step - loss: 0.4917 - acc: 0.8141 - val_loss: 0.5789 - val_acc: 0.7937\n",
            "Epoch 46/50\n",
            "1006/1006 [==============================] - 0s 93us/step - loss: 0.4941 - acc: 0.8211 - val_loss: 0.5737 - val_acc: 0.7817\n",
            "Epoch 47/50\n",
            "1006/1006 [==============================] - 0s 86us/step - loss: 0.4983 - acc: 0.8121 - val_loss: 0.5754 - val_acc: 0.8016\n",
            "Epoch 48/50\n",
            "1006/1006 [==============================] - 0s 89us/step - loss: 0.4824 - acc: 0.8151 - val_loss: 0.5763 - val_acc: 0.7857\n",
            "Epoch 49/50\n",
            "1006/1006 [==============================] - 0s 94us/step - loss: 0.4981 - acc: 0.8161 - val_loss: 0.5752 - val_acc: 0.7976\n",
            "Epoch 50/50\n",
            "1006/1006 [==============================] - 0s 89us/step - loss: 0.5078 - acc: 0.8052 - val_loss: 0.5697 - val_acc: 0.7937\n",
            "The test accuracy is:  0.8285714285714286\n"
          ],
          "name": "stdout"
        }
      ]
    },
    {
      "cell_type": "markdown",
      "metadata": {
        "id": "ciDqaicSil25",
        "colab_type": "text"
      },
      "source": [
        "The test accuracy of the model for year 2008 predicting its own data is 82.9%. Very nice. How does it performs on future years?"
      ]
    },
    {
      "cell_type": "code",
      "metadata": {
        "id": "l_-5hTKMTZxw",
        "colab_type": "code",
        "colab": {}
      },
      "source": [
        "labels = [1,2,3,4,5]\n",
        "test_acc_future = []\n",
        "\n",
        "#2010 \n",
        "\n",
        "pred_2010 = nn_model_2009.predict(np.asarray(X_2010))\n",
        "pred_2010 = [labels[np.argmax(item)] for item in pred_2010]\n",
        "test_acc_2010 = accuracy_score(pred_2010, y_2010)\n",
        "test_acc_future.append(test_acc_2010)\n",
        "\n",
        "#2011 \n",
        "\n",
        "pred_2011 = nn_model_2009.predict(np.asarray(X_2011))\n",
        "pred_2011 = [labels[np.argmax(item)] for item in pred_2011]\n",
        "test_acc_2011 = accuracy_score(pred_2011, y_2011)\n",
        "test_acc_future.append(test_acc_2011)\n",
        "\n",
        "#2012 \n",
        "\n",
        "pred_2012 = nn_model_2009.predict(np.asarray(X_2012))\n",
        "pred_2012 = [labels[np.argmax(item)] for item in pred_2012]\n",
        "test_acc_2012 = accuracy_score(pred_2012, y_2012)\n",
        "test_acc_future.append(test_acc_2012)\n",
        "\n",
        "#2013 \n",
        "\n",
        "pred_2013 = nn_model_2009.predict(np.asarray(X_2013))\n",
        "pred_2013 = [labels[np.argmax(item)] for item in pred_2013]\n",
        "test_acc_2013 = accuracy_score(pred_2013, y_2013)\n",
        "test_acc_future.append(test_acc_2013)\n",
        "\n",
        "#2014 \n",
        "\n",
        "pred_2014 = nn_model_2009.predict(np.asarray(X_2014))\n",
        "pred_2014 = [labels[np.argmax(item)] for item in pred_2014]\n",
        "test_acc_2014 = accuracy_score(pred_2014, y_2014)\n",
        "test_acc_future.append(test_acc_2014)"
      ],
      "execution_count": null,
      "outputs": []
    },
    {
      "cell_type": "markdown",
      "metadata": {
        "id": "Ox4w40pijUuL",
        "colab_type": "text"
      },
      "source": [
        "We observes that the performance of the model decreases over the years."
      ]
    },
    {
      "cell_type": "code",
      "metadata": {
        "id": "pyeayBZRTtKE",
        "colab_type": "code",
        "colab": {
          "base_uri": "https://localhost:8080/",
          "height": 430
        },
        "outputId": "7d2364a9-5438-4619-e5d8-96083bbb6387"
      },
      "source": [
        "figure(num=None, figsize=(8, 6), dpi=80, facecolor='w', edgecolor='k')\n",
        "plt.plot(np.arange(2010, 2015, 1),test_acc_future)"
      ],
      "execution_count": null,
      "outputs": [
        {
          "output_type": "execute_result",
          "data": {
            "text/plain": [
              "[<matplotlib.lines.Line2D at 0x7f80a5c53860>]"
            ]
          },
          "metadata": {
            "tags": []
          },
          "execution_count": 51
        },
        {
          "output_type": "display_data",
          "data": {
            "image/png": "[encoded data removed]",
            "text/plain": [
              "<Figure size 640x480 with 1 Axes>"
            ]
          },
          "metadata": {
            "tags": []
          }
        }
      ]
    },
    {
      "cell_type": "markdown",
      "metadata": {
        "id": "BbfKWBTHjdDm",
        "colab_type": "text"
      },
      "source": [
        "#### 2.0.1.3 Neural Network Model for 2010"
      ]
    },
    {
      "cell_type": "code",
      "metadata": {
        "id": "UVuzmDpSUe7M",
        "colab_type": "code",
        "colab": {
          "base_uri": "https://localhost:8080/",
          "height": 1000
        },
        "outputId": "e3b233d4-3ca5-46be-e98b-ec41af230b71"
      },
      "source": [
        "nn_model_2010, test_acc_2010 = evaluate_nn_model_year(X_2010, y_2010)"
      ],
      "execution_count": null,
      "outputs": [
        {
          "output_type": "stream",
          "text": [
            "Train on 2194 samples, validate on 549 samples\n",
            "Epoch 1/50\n",
            "2194/2194 [==============================] - 1s 291us/step - loss: 1.5555 - acc: 0.3500 - val_loss: 1.4638 - val_acc: 0.3880\n",
            "Epoch 2/50\n",
            "2194/2194 [==============================] - 0s 85us/step - loss: 1.3687 - acc: 0.4257 - val_loss: 1.2020 - val_acc: 0.5628\n",
            "Epoch 3/50\n",
            "2194/2194 [==============================] - 0s 93us/step - loss: 1.1070 - acc: 0.6522 - val_loss: 0.9132 - val_acc: 0.7596\n",
            "Epoch 4/50\n",
            "2194/2194 [==============================] - 0s 94us/step - loss: 0.8775 - acc: 0.7261 - val_loss: 0.7476 - val_acc: 0.7577\n",
            "Epoch 5/50\n",
            "2194/2194 [==============================] - 0s 90us/step - loss: 0.7640 - acc: 0.7411 - val_loss: 0.6780 - val_acc: 0.7705\n",
            "Epoch 6/50\n",
            "2194/2194 [==============================] - 0s 88us/step - loss: 0.7092 - acc: 0.7543 - val_loss: 0.6168 - val_acc: 0.7796\n",
            "Epoch 7/50\n",
            "2194/2194 [==============================] - 0s 90us/step - loss: 0.6916 - acc: 0.7507 - val_loss: 0.6211 - val_acc: 0.7869\n",
            "Epoch 8/50\n",
            "2194/2194 [==============================] - 0s 84us/step - loss: 0.6567 - acc: 0.7703 - val_loss: 0.5848 - val_acc: 0.7851\n",
            "Epoch 9/50\n",
            "2194/2194 [==============================] - 0s 81us/step - loss: 0.6362 - acc: 0.7744 - val_loss: 0.5638 - val_acc: 0.8069\n",
            "Epoch 10/50\n",
            "2194/2194 [==============================] - 0s 85us/step - loss: 0.6170 - acc: 0.7812 - val_loss: 0.5558 - val_acc: 0.8197\n",
            "Epoch 11/50\n",
            "2194/2194 [==============================] - 0s 94us/step - loss: 0.6075 - acc: 0.7890 - val_loss: 0.5461 - val_acc: 0.8233\n",
            "Epoch 12/50\n",
            "2194/2194 [==============================] - 0s 89us/step - loss: 0.6146 - acc: 0.7817 - val_loss: 0.5376 - val_acc: 0.8197\n",
            "Epoch 13/50\n",
            "2194/2194 [==============================] - 0s 95us/step - loss: 0.6064 - acc: 0.7821 - val_loss: 0.5347 - val_acc: 0.8197\n",
            "Epoch 14/50\n",
            "2194/2194 [==============================] - 0s 89us/step - loss: 0.5899 - acc: 0.8008 - val_loss: 0.5283 - val_acc: 0.8251\n",
            "Epoch 15/50\n",
            "2194/2194 [==============================] - 0s 84us/step - loss: 0.5906 - acc: 0.7917 - val_loss: 0.5295 - val_acc: 0.8270\n",
            "Epoch 16/50\n",
            "2194/2194 [==============================] - 0s 91us/step - loss: 0.5916 - acc: 0.7881 - val_loss: 0.5376 - val_acc: 0.8197\n",
            "Epoch 17/50\n",
            "2194/2194 [==============================] - 0s 82us/step - loss: 0.5752 - acc: 0.7935 - val_loss: 0.5235 - val_acc: 0.8306\n",
            "Epoch 18/50\n",
            "2194/2194 [==============================] - 0s 88us/step - loss: 0.5951 - acc: 0.7858 - val_loss: 0.5376 - val_acc: 0.8197\n",
            "Epoch 19/50\n",
            "2194/2194 [==============================] - 0s 79us/step - loss: 0.5667 - acc: 0.7995 - val_loss: 0.5152 - val_acc: 0.8288\n",
            "Epoch 20/50\n",
            "2194/2194 [==============================] - 0s 80us/step - loss: 0.5705 - acc: 0.7995 - val_loss: 0.5227 - val_acc: 0.8215\n",
            "Epoch 21/50\n",
            "2194/2194 [==============================] - 0s 90us/step - loss: 0.5641 - acc: 0.8040 - val_loss: 0.5233 - val_acc: 0.8160\n",
            "Epoch 22/50\n",
            "2194/2194 [==============================] - 0s 92us/step - loss: 0.5687 - acc: 0.7899 - val_loss: 0.5097 - val_acc: 0.8197\n",
            "Epoch 23/50\n",
            "2194/2194 [==============================] - 0s 91us/step - loss: 0.5656 - acc: 0.7972 - val_loss: 0.5082 - val_acc: 0.8288\n",
            "Epoch 24/50\n",
            "2194/2194 [==============================] - 0s 95us/step - loss: 0.5644 - acc: 0.7958 - val_loss: 0.5071 - val_acc: 0.8270\n",
            "Epoch 25/50\n",
            "2194/2194 [==============================] - 0s 92us/step - loss: 0.5594 - acc: 0.7999 - val_loss: 0.5017 - val_acc: 0.8288\n",
            "Epoch 26/50\n",
            "2194/2194 [==============================] - 0s 91us/step - loss: 0.5544 - acc: 0.8040 - val_loss: 0.5065 - val_acc: 0.8306\n",
            "Epoch 27/50\n",
            "2194/2194 [==============================] - 0s 82us/step - loss: 0.5566 - acc: 0.7963 - val_loss: 0.5331 - val_acc: 0.8087\n",
            "Epoch 28/50\n",
            "2194/2194 [==============================] - 0s 86us/step - loss: 0.5504 - acc: 0.7958 - val_loss: 0.5043 - val_acc: 0.8397\n",
            "Epoch 29/50\n",
            "2194/2194 [==============================] - 0s 86us/step - loss: 0.5429 - acc: 0.8013 - val_loss: 0.5026 - val_acc: 0.8361\n",
            "Epoch 30/50\n",
            "2194/2194 [==============================] - 0s 93us/step - loss: 0.5374 - acc: 0.8077 - val_loss: 0.5187 - val_acc: 0.8251\n",
            "Epoch 31/50\n",
            "2194/2194 [==============================] - 0s 99us/step - loss: 0.5521 - acc: 0.7972 - val_loss: 0.5066 - val_acc: 0.8251\n",
            "Epoch 32/50\n",
            "2194/2194 [==============================] - 0s 88us/step - loss: 0.5392 - acc: 0.8040 - val_loss: 0.5044 - val_acc: 0.8288\n",
            "Epoch 33/50\n",
            "2194/2194 [==============================] - 0s 95us/step - loss: 0.5315 - acc: 0.8067 - val_loss: 0.5050 - val_acc: 0.8324\n",
            "Epoch 34/50\n",
            "2194/2194 [==============================] - 0s 86us/step - loss: 0.5336 - acc: 0.8104 - val_loss: 0.4983 - val_acc: 0.8270\n",
            "Epoch 35/50\n",
            "2194/2194 [==============================] - 0s 86us/step - loss: 0.5370 - acc: 0.7999 - val_loss: 0.5011 - val_acc: 0.8233\n",
            "Epoch 36/50\n",
            "2194/2194 [==============================] - 0s 91us/step - loss: 0.5356 - acc: 0.8017 - val_loss: 0.4989 - val_acc: 0.8251\n",
            "Epoch 37/50\n",
            "2194/2194 [==============================] - 0s 97us/step - loss: 0.5410 - acc: 0.8022 - val_loss: 0.5017 - val_acc: 0.8288\n",
            "Epoch 38/50\n",
            "2194/2194 [==============================] - 0s 85us/step - loss: 0.5225 - acc: 0.8090 - val_loss: 0.5057 - val_acc: 0.8233\n",
            "Epoch 39/50\n",
            "2194/2194 [==============================] - 0s 88us/step - loss: 0.5336 - acc: 0.8077 - val_loss: 0.5099 - val_acc: 0.8233\n",
            "Epoch 40/50\n",
            "2194/2194 [==============================] - 0s 90us/step - loss: 0.5221 - acc: 0.8108 - val_loss: 0.4942 - val_acc: 0.8324\n",
            "Epoch 41/50\n",
            "2194/2194 [==============================] - 0s 96us/step - loss: 0.5338 - acc: 0.8090 - val_loss: 0.4958 - val_acc: 0.8306\n",
            "Epoch 42/50\n",
            "2194/2194 [==============================] - 0s 93us/step - loss: 0.5210 - acc: 0.8086 - val_loss: 0.5009 - val_acc: 0.8251\n",
            "Epoch 43/50\n",
            "2194/2194 [==============================] - 0s 95us/step - loss: 0.5222 - acc: 0.8095 - val_loss: 0.5185 - val_acc: 0.8197\n",
            "Epoch 44/50\n",
            "2194/2194 [==============================] - 0s 88us/step - loss: 0.5086 - acc: 0.8081 - val_loss: 0.5112 - val_acc: 0.8197\n",
            "Epoch 45/50\n",
            "2194/2194 [==============================] - 0s 89us/step - loss: 0.5189 - acc: 0.8118 - val_loss: 0.4970 - val_acc: 0.8270\n",
            "Epoch 46/50\n",
            "2194/2194 [==============================] - 0s 91us/step - loss: 0.5143 - acc: 0.8168 - val_loss: 0.4951 - val_acc: 0.8270\n",
            "Epoch 47/50\n",
            "2194/2194 [==============================] - 0s 98us/step - loss: 0.5189 - acc: 0.8099 - val_loss: 0.5034 - val_acc: 0.8251\n",
            "Epoch 48/50\n",
            "2194/2194 [==============================] - 0s 84us/step - loss: 0.5020 - acc: 0.8090 - val_loss: 0.4943 - val_acc: 0.8233\n",
            "Epoch 49/50\n",
            "2194/2194 [==============================] - 0s 87us/step - loss: 0.5147 - acc: 0.8063 - val_loss: 0.4944 - val_acc: 0.8306\n",
            "Epoch 50/50\n",
            "2194/2194 [==============================] - 0s 101us/step - loss: 0.5017 - acc: 0.8181 - val_loss: 0.4969 - val_acc: 0.8233\n",
            "The test accuracy is:  0.8454810495626822\n"
          ],
          "name": "stdout"
        }
      ]
    },
    {
      "cell_type": "markdown",
      "metadata": {
        "id": "caLBmyemkCd9",
        "colab_type": "text"
      },
      "source": [
        "The test accuracy of the model for year 2010 predicting its own data is 84.5%. Very nice. How does it performs on future years?"
      ]
    },
    {
      "cell_type": "code",
      "metadata": {
        "id": "Ri0eUIP6Vnpv",
        "colab_type": "code",
        "colab": {}
      },
      "source": [
        "labels = [1,2,3,4,5]\n",
        "test_acc_future = []\n",
        "\n",
        "#2011 \n",
        "\n",
        "pred_2011 = nn_model_2010.predict(np.asarray(X_2011))\n",
        "pred_2011 = [labels[np.argmax(item)] for item in pred_2011]\n",
        "test_acc_2011 = accuracy_score(pred_2011, y_2011)\n",
        "test_acc_future.append(test_acc_2011)\n",
        "\n",
        "#2012 \n",
        "\n",
        "pred_2012 = nn_model_2010.predict(np.asarray(X_2012))\n",
        "pred_2012 = [labels[np.argmax(item)] for item in pred_2012]\n",
        "test_acc_2012 = accuracy_score(pred_2012, y_2012)\n",
        "test_acc_future.append(test_acc_2012)\n",
        "\n",
        "#2013 \n",
        "\n",
        "pred_2013 = nn_model_2010.predict(np.asarray(X_2013))\n",
        "pred_2013 = [labels[np.argmax(item)] for item in pred_2013]\n",
        "test_acc_2013 = accuracy_score(pred_2013, y_2013)\n",
        "test_acc_future.append(test_acc_2013)\n",
        "\n",
        "#2014 \n",
        "\n",
        "pred_2014 = nn_model_2010.predict(np.asarray(X_2014))\n",
        "pred_2014 = [labels[np.argmax(item)] for item in pred_2014]\n",
        "test_acc_2014 = accuracy_score(pred_2014, y_2014)\n",
        "test_acc_future.append(test_acc_2014)"
      ],
      "execution_count": null,
      "outputs": []
    },
    {
      "cell_type": "markdown",
      "metadata": {
        "id": "bJAP5Y8KkQ0T",
        "colab_type": "text"
      },
      "source": [
        "Once again, we observes that the performance is decreasing over the years."
      ]
    },
    {
      "cell_type": "code",
      "metadata": {
        "id": "ZSd2WCfZVyQr",
        "colab_type": "code",
        "colab": {
          "base_uri": "https://localhost:8080/",
          "height": 430
        },
        "outputId": "1d73dea0-a868-4950-999e-428a25a2a42e"
      },
      "source": [
        "figure(num=None, figsize=(8, 6), dpi=80, facecolor='w', edgecolor='k')\n",
        "plt.plot(np.arange(2011, 2015, 1), test_acc_future)"
      ],
      "execution_count": null,
      "outputs": [
        {
          "output_type": "execute_result",
          "data": {
            "text/plain": [
              "[<matplotlib.lines.Line2D at 0x7f80a5a94b70>]"
            ]
          },
          "metadata": {
            "tags": []
          },
          "execution_count": 54
        },
        {
          "output_type": "display_data",
          "data": {
            "image/png": "[encoded data removed]",
            "text/plain": [
              "<Figure size 640x480 with 1 Axes>"
            ]
          },
          "metadata": {
            "tags": []
          }
        }
      ]
    },
    {
      "cell_type": "markdown",
      "metadata": {
        "id": "sh8diWM_kXV0",
        "colab_type": "text"
      },
      "source": [
        "####2.0.1.4 Neural Network Model for 2011"
      ]
    },
    {
      "cell_type": "code",
      "metadata": {
        "id": "O8yj8T8QV5Xd",
        "colab_type": "code",
        "colab": {
          "base_uri": "https://localhost:8080/",
          "height": 1000
        },
        "outputId": "a86d7125-e487-4601-b9d1-166398b23161"
      },
      "source": [
        "nn_model_2011, test_acc_2011 = evaluate_nn_model_year(X_2011, y_2011)"
      ],
      "execution_count": null,
      "outputs": [
        {
          "output_type": "stream",
          "text": [
            "Train on 5072 samples, validate on 1269 samples\n",
            "Epoch 1/50\n",
            "5072/5072 [==============================] - 1s 239us/step - loss: 1.4216 - acc: 0.4491 - val_loss: 1.1027 - val_acc: 0.7108\n",
            "Epoch 2/50\n",
            "5072/5072 [==============================] - 0s 85us/step - loss: 0.9206 - acc: 0.7125 - val_loss: 0.6894 - val_acc: 0.7683\n",
            "Epoch 3/50\n",
            "5072/5072 [==============================] - 0s 87us/step - loss: 0.7118 - acc: 0.7522 - val_loss: 0.5666 - val_acc: 0.7975\n",
            "Epoch 4/50\n",
            "5072/5072 [==============================] - 0s 81us/step - loss: 0.6483 - acc: 0.7666 - val_loss: 0.5485 - val_acc: 0.7991\n",
            "Epoch 5/50\n",
            "5072/5072 [==============================] - 0s 88us/step - loss: 0.6260 - acc: 0.7741 - val_loss: 0.5199 - val_acc: 0.8219\n",
            "Epoch 6/50\n",
            "5072/5072 [==============================] - 0s 84us/step - loss: 0.6206 - acc: 0.7800 - val_loss: 0.5168 - val_acc: 0.8172\n",
            "Epoch 7/50\n",
            "5072/5072 [==============================] - 0s 79us/step - loss: 0.6116 - acc: 0.7790 - val_loss: 0.5139 - val_acc: 0.8180\n",
            "Epoch 8/50\n",
            "5072/5072 [==============================] - 0s 83us/step - loss: 0.6060 - acc: 0.7853 - val_loss: 0.5100 - val_acc: 0.8156\n",
            "Epoch 9/50\n",
            "5072/5072 [==============================] - 0s 82us/step - loss: 0.6062 - acc: 0.7766 - val_loss: 0.5006 - val_acc: 0.8219\n",
            "Epoch 10/50\n",
            "5072/5072 [==============================] - 0s 89us/step - loss: 0.6011 - acc: 0.7817 - val_loss: 0.5054 - val_acc: 0.8188\n",
            "Epoch 11/50\n",
            "5072/5072 [==============================] - 0s 80us/step - loss: 0.5873 - acc: 0.7894 - val_loss: 0.4970 - val_acc: 0.8203\n",
            "Epoch 12/50\n",
            "5072/5072 [==============================] - 0s 87us/step - loss: 0.5903 - acc: 0.7918 - val_loss: 0.4992 - val_acc: 0.8148\n",
            "Epoch 13/50\n",
            "5072/5072 [==============================] - 0s 87us/step - loss: 0.5713 - acc: 0.7942 - val_loss: 0.4974 - val_acc: 0.8235\n",
            "Epoch 14/50\n",
            "5072/5072 [==============================] - 0s 79us/step - loss: 0.5734 - acc: 0.7869 - val_loss: 0.4887 - val_acc: 0.8219\n",
            "Epoch 15/50\n",
            "5072/5072 [==============================] - 0s 85us/step - loss: 0.5668 - acc: 0.7924 - val_loss: 0.4889 - val_acc: 0.8243\n",
            "Epoch 16/50\n",
            "5072/5072 [==============================] - 0s 83us/step - loss: 0.5708 - acc: 0.7914 - val_loss: 0.4904 - val_acc: 0.8266\n",
            "Epoch 17/50\n",
            "5072/5072 [==============================] - 0s 83us/step - loss: 0.5677 - acc: 0.7959 - val_loss: 0.4908 - val_acc: 0.8314\n",
            "Epoch 18/50\n",
            "5072/5072 [==============================] - 0s 81us/step - loss: 0.5662 - acc: 0.7932 - val_loss: 0.4918 - val_acc: 0.8282\n",
            "Epoch 19/50\n",
            "5072/5072 [==============================] - 0s 81us/step - loss: 0.5634 - acc: 0.7999 - val_loss: 0.4892 - val_acc: 0.8314\n",
            "Epoch 20/50\n",
            "5072/5072 [==============================] - 0s 86us/step - loss: 0.5650 - acc: 0.7969 - val_loss: 0.4903 - val_acc: 0.8211\n",
            "Epoch 21/50\n",
            "5072/5072 [==============================] - 0s 87us/step - loss: 0.5696 - acc: 0.7932 - val_loss: 0.4879 - val_acc: 0.8243\n",
            "Epoch 22/50\n",
            "5072/5072 [==============================] - 0s 89us/step - loss: 0.5487 - acc: 0.8052 - val_loss: 0.4863 - val_acc: 0.8211\n",
            "Epoch 23/50\n",
            "5072/5072 [==============================] - 0s 84us/step - loss: 0.5447 - acc: 0.8050 - val_loss: 0.4801 - val_acc: 0.8282\n",
            "Epoch 24/50\n",
            "5072/5072 [==============================] - 0s 83us/step - loss: 0.5483 - acc: 0.7991 - val_loss: 0.4813 - val_acc: 0.8243\n",
            "Epoch 25/50\n",
            "5072/5072 [==============================] - 0s 90us/step - loss: 0.5436 - acc: 0.8015 - val_loss: 0.4816 - val_acc: 0.8282\n",
            "Epoch 26/50\n",
            "5072/5072 [==============================] - 0s 82us/step - loss: 0.5398 - acc: 0.8022 - val_loss: 0.4781 - val_acc: 0.8282\n",
            "Epoch 27/50\n",
            "5072/5072 [==============================] - 0s 86us/step - loss: 0.5425 - acc: 0.8032 - val_loss: 0.4743 - val_acc: 0.8345\n",
            "Epoch 28/50\n",
            "5072/5072 [==============================] - 0s 84us/step - loss: 0.5393 - acc: 0.8070 - val_loss: 0.4773 - val_acc: 0.8314\n",
            "Epoch 29/50\n",
            "5072/5072 [==============================] - 0s 89us/step - loss: 0.5386 - acc: 0.8076 - val_loss: 0.4778 - val_acc: 0.8290\n",
            "Epoch 30/50\n",
            "5072/5072 [==============================] - 0s 86us/step - loss: 0.5393 - acc: 0.8036 - val_loss: 0.4736 - val_acc: 0.8345\n",
            "Epoch 31/50\n",
            "5072/5072 [==============================] - 0s 86us/step - loss: 0.5221 - acc: 0.8153 - val_loss: 0.4719 - val_acc: 0.8314\n",
            "Epoch 32/50\n",
            "5072/5072 [==============================] - 0s 90us/step - loss: 0.5316 - acc: 0.8121 - val_loss: 0.4738 - val_acc: 0.8306\n",
            "Epoch 33/50\n",
            "5072/5072 [==============================] - 0s 88us/step - loss: 0.5298 - acc: 0.8099 - val_loss: 0.4796 - val_acc: 0.8306\n",
            "Epoch 34/50\n",
            "5072/5072 [==============================] - 0s 92us/step - loss: 0.5316 - acc: 0.8028 - val_loss: 0.4703 - val_acc: 0.8337\n",
            "Epoch 35/50\n",
            "5072/5072 [==============================] - 0s 83us/step - loss: 0.5313 - acc: 0.8024 - val_loss: 0.4668 - val_acc: 0.8361\n",
            "Epoch 36/50\n",
            "5072/5072 [==============================] - 0s 87us/step - loss: 0.5140 - acc: 0.8129 - val_loss: 0.4702 - val_acc: 0.8298\n",
            "Epoch 37/50\n",
            "5072/5072 [==============================] - 0s 87us/step - loss: 0.5199 - acc: 0.8105 - val_loss: 0.4692 - val_acc: 0.8322\n",
            "Epoch 38/50\n",
            "5072/5072 [==============================] - 0s 86us/step - loss: 0.5152 - acc: 0.8125 - val_loss: 0.4671 - val_acc: 0.8345\n",
            "Epoch 39/50\n",
            "5072/5072 [==============================] - 0s 88us/step - loss: 0.5110 - acc: 0.8186 - val_loss: 0.4652 - val_acc: 0.8345\n",
            "Epoch 40/50\n",
            "5072/5072 [==============================] - 0s 86us/step - loss: 0.5096 - acc: 0.8162 - val_loss: 0.4619 - val_acc: 0.8416\n",
            "Epoch 41/50\n",
            "5072/5072 [==============================] - 0s 92us/step - loss: 0.5111 - acc: 0.8133 - val_loss: 0.4668 - val_acc: 0.8322\n",
            "Epoch 42/50\n",
            "5072/5072 [==============================] - 0s 87us/step - loss: 0.5030 - acc: 0.8214 - val_loss: 0.4651 - val_acc: 0.8385\n",
            "Epoch 43/50\n",
            "5072/5072 [==============================] - 0s 85us/step - loss: 0.5144 - acc: 0.8117 - val_loss: 0.4688 - val_acc: 0.8369\n",
            "Epoch 44/50\n",
            "5072/5072 [==============================] - 0s 81us/step - loss: 0.5060 - acc: 0.8155 - val_loss: 0.4640 - val_acc: 0.8385\n",
            "Epoch 45/50\n",
            "5072/5072 [==============================] - 0s 85us/step - loss: 0.5066 - acc: 0.8143 - val_loss: 0.4655 - val_acc: 0.8424\n",
            "Epoch 46/50\n",
            "5072/5072 [==============================] - 0s 82us/step - loss: 0.4960 - acc: 0.8212 - val_loss: 0.4604 - val_acc: 0.8385\n",
            "Epoch 47/50\n",
            "5072/5072 [==============================] - 0s 83us/step - loss: 0.4898 - acc: 0.8224 - val_loss: 0.4594 - val_acc: 0.8369\n",
            "Epoch 48/50\n",
            "5072/5072 [==============================] - 0s 84us/step - loss: 0.4926 - acc: 0.8198 - val_loss: 0.4614 - val_acc: 0.8369\n",
            "Epoch 49/50\n",
            "5072/5072 [==============================] - 0s 84us/step - loss: 0.4913 - acc: 0.8192 - val_loss: 0.4676 - val_acc: 0.8329\n",
            "Epoch 50/50\n",
            "5072/5072 [==============================] - 0s 83us/step - loss: 0.4875 - acc: 0.8172 - val_loss: 0.4588 - val_acc: 0.8400\n",
            "The test accuracy is:  0.8284993694829761\n"
          ],
          "name": "stdout"
        }
      ]
    },
    {
      "cell_type": "markdown",
      "metadata": {
        "id": "GM2rxcIskgLd",
        "colab_type": "text"
      },
      "source": [
        "The test accuracy of the model for year 2008 predicting its own data is 82.8%. Very nice. How does it performs on future years?"
      ]
    },
    {
      "cell_type": "code",
      "metadata": {
        "id": "T16bmNv1WE3O",
        "colab_type": "code",
        "colab": {}
      },
      "source": [
        "labels = [1,2,3,4,5]\n",
        "test_acc_future = []\n",
        "\n",
        "#2012 \n",
        "\n",
        "pred_2012 = nn_model_2011.predict(np.asarray(X_2012))\n",
        "pred_2012 = [labels[np.argmax(item)] for item in pred_2012]\n",
        "test_acc_2012 = accuracy_score(pred_2012, y_2012)\n",
        "test_acc_future.append(test_acc_2012)\n",
        "\n",
        "#2013 \n",
        "\n",
        "pred_2013 = nn_model_2011.predict(np.asarray(X_2013))\n",
        "pred_2013 = [labels[np.argmax(item)] for item in pred_2013]\n",
        "test_acc_2013 = accuracy_score(pred_2013, y_2013)\n",
        "test_acc_future.append(test_acc_2013)\n",
        "\n",
        "#2014 \n",
        "\n",
        "pred_2014 = nn_model_2011.predict(np.asarray(X_2014))\n",
        "pred_2014 = [labels[np.argmax(item)] for item in pred_2014]\n",
        "test_acc_2014 = accuracy_score(pred_2014, y_2014)\n",
        "test_acc_future.append(test_acc_2014)"
      ],
      "execution_count": null,
      "outputs": []
    },
    {
      "cell_type": "markdown",
      "metadata": {
        "id": "rbvtXMGskyf5",
        "colab_type": "text"
      },
      "source": [
        "Guess we see the pattern here!"
      ]
    },
    {
      "cell_type": "code",
      "metadata": {
        "id": "i-Z3xmOLWNcm",
        "colab_type": "code",
        "colab": {
          "base_uri": "https://localhost:8080/",
          "height": 430
        },
        "outputId": "d71ec571-7b64-4eb4-d45b-e28994078edd"
      },
      "source": [
        "figure(num=None, figsize=(8, 6), dpi=80, facecolor='w', edgecolor='k')\n",
        "plt.plot(np.arange(2012, 2015, 1),test_acc_future)"
      ],
      "execution_count": null,
      "outputs": [
        {
          "output_type": "execute_result",
          "data": {
            "text/plain": [
              "[<matplotlib.lines.Line2D at 0x7f80a61882e8>]"
            ]
          },
          "metadata": {
            "tags": []
          },
          "execution_count": 60
        },
        {
          "output_type": "display_data",
          "data": {
            "image/png": "[encoded data removed]",
            "text/plain": [
              "<Figure size 640x480 with 1 Axes>"
            ]
          },
          "metadata": {
            "tags": []
          }
        }
      ]
    },
    {
      "cell_type": "markdown",
      "metadata": {
        "id": "db4v_9XNlnoA",
        "colab_type": "text"
      },
      "source": [
        "Everyone hopes make the correct prediction regarding the future. Based on our data, it seems that the performance of a model diminish overtime across the future years. This makes senses becuase customer behavior changes across years, and it is interesting simply by looking at them. Due to the limited time, I could not go further, but it can certainly be a subject of future work related to fields such as behavior economics."
      ]
    },
    {
      "cell_type": "markdown",
      "metadata": {
        "id": "4xyOAvirYr_d",
        "colab_type": "text"
      },
      "source": [
        "##2.0.2 Exploration on Month\n",
        "\n",
        "Let's take a look at Month now. Hopefully we can find some more insights from the data."
      ]
    },
    {
      "cell_type": "markdown",
      "metadata": {
        "id": "8qW18NK_mkYi",
        "colab_type": "text"
      },
      "source": [
        "At a glance, it seems that we have less reviews from the second half of the year (July-November). Let's take a look at the distribution of the ratios of different ratings."
      ]
    },
    {
      "cell_type": "code",
      "metadata": {
        "id": "FSxwNubNZRC3",
        "colab_type": "code",
        "colab": {
          "base_uri": "https://localhost:8080/",
          "height": 282
        },
        "outputId": "c1b2fbac-15e1-4d36-a70e-71805da960dc"
      },
      "source": [
        "review_times_month.value_counts(sort=True, ascending=True).plot(kind='barh')"
      ],
      "execution_count": null,
      "outputs": [
        {
          "output_type": "execute_result",
          "data": {
            "text/plain": [
              "<matplotlib.axes._subplots.AxesSubplot at 0x7f80a623be80>"
            ]
          },
          "metadata": {
            "tags": []
          },
          "execution_count": 61
        },
        {
          "output_type": "display_data",
          "data": {
            "image/png": "[encoded data removed]",
            "text/plain": [
              "<Figure size 432x288 with 1 Axes>"
            ]
          },
          "metadata": {
            "tags": []
          }
        }
      ]
    },
    {
      "cell_type": "markdown",
      "metadata": {
        "id": "0NPts8Q4nC4i",
        "colab_type": "text"
      },
      "source": [
        "Let's assemble the data based on month."
      ]
    },
    {
      "cell_type": "code",
      "metadata": {
        "id": "fyRK5_SicDkA",
        "colab_type": "code",
        "colab": {
          "base_uri": "https://localhost:8080/",
          "height": 34
        },
        "outputId": "98a03bba-02db-49cf-dc7e-4d124c813648"
      },
      "source": [
        "# Extract Data By Month\n",
        "\n",
        "X_Jan = []\n",
        "y_Jan = []\n",
        "\n",
        "X_Feb = []\n",
        "y_Feb = []\n",
        "\n",
        "X_Mar = []\n",
        "y_Mar = []\n",
        "\n",
        "X_Apr = []\n",
        "y_Apr = []\n",
        "\n",
        "X_May = []\n",
        "y_May = []\n",
        "\n",
        "X_Jun = []\n",
        "y_Jun = []\n",
        "\n",
        "X_Jul = []\n",
        "y_Jul = []\n",
        "\n",
        "X_Aug = []\n",
        "y_Aug = []\n",
        "\n",
        "X_Sep = []\n",
        "y_Sep = []\n",
        "\n",
        "X_Oct = []\n",
        "y_Oct = []\n",
        "\n",
        "X_Nov = []\n",
        "y_Nov = []\n",
        "\n",
        "X_Dec = []\n",
        "y_Dec = []\n",
        "\n",
        "\n",
        "zipped = list(zip(X, review_times_month, y))\n",
        "\n",
        "for item in zipped:\n",
        "  if item[1] == 1:\n",
        "    X_Jan.append(item[0])\n",
        "    y_Jan.append(item[2])\n",
        "  if item[1] == 2:\n",
        "    X_Feb.append(item[0])\n",
        "    y_Feb.append(item[2])\n",
        "  if item[1] == 3:\n",
        "    X_Mar.append(item[0])\n",
        "    y_Mar.append(item[2])\n",
        "  if item[1] == 4:\n",
        "    X_Apr.append(item[0])\n",
        "    y_Apr.append(item[2])\n",
        "  if item[1] == 5:\n",
        "    X_May.append(item[0])\n",
        "    y_May.append(item[2])\n",
        "  if item[1] == 6:\n",
        "    X_Jun.append(item[0])\n",
        "    y_Jun.append(item[2])\n",
        "  if item[1] == 7:\n",
        "    X_Jul.append(item[0])\n",
        "    y_Jul.append(item[2])\n",
        "  if item[1] == 8:\n",
        "    X_Aug.append(item[0])\n",
        "    y_Aug.append(item[2])\n",
        "  if item[1] == 9:\n",
        "    X_Sep.append(item[0])\n",
        "    y_Sep.append(item[2])\n",
        "  if item[1] == 10:\n",
        "    X_Oct.append(item[0])\n",
        "    y_Oct.append(item[2])\n",
        "  if item[1] == 11:\n",
        "    X_Nov.append(item[0])\n",
        "    y_Nov.append(item[2])\n",
        "  if item[1] == 12:\n",
        "    X_Dec.append(item[0])\n",
        "    y_Dec.append(item[2])\n",
        "\n",
        "  \n",
        "print(\"Check if we miss any samples: \", not (len(zipped) == len(X_Jan) + len(X_Feb) + len(X_Mar) + len(X_Apr) + len(X_May) + len(X_Jun) + len(X_Jul) + len(X_Aug) + len(X_Sep) + len(X_Oct) + len(X_Nov) + len(X_Dec)))"
      ],
      "execution_count": null,
      "outputs": [
        {
          "output_type": "stream",
          "text": [
            "Check if we miss any samples:  False\n"
          ],
          "name": "stdout"
        }
      ]
    },
    {
      "cell_type": "markdown",
      "metadata": {
        "id": "i-Ls3umSnpey",
        "colab_type": "text"
      },
      "source": [
        "Since we have 12 different classes, one for each month, it would be super ugly to put the on the same plot, and the color is not enough (Seriously? They only have 8 colors!). I generated two plots, one for half of a year. Let's take a look!"
      ]
    },
    {
      "cell_type": "code",
      "metadata": {
        "id": "3mOunyskdE3j",
        "colab_type": "code",
        "colab": {
          "base_uri": "https://localhost:8080/",
          "height": 297
        },
        "outputId": "cb22e20f-23a1-45b9-edee-e2614e89495a"
      },
      "source": [
        "from collections import Counter\n",
        "\n",
        "#Count the number of ratings in each month\n",
        "\n",
        "rating_counts_Jan = tuple([val/sum(list(Counter(y_Jan).values())) for val in list(Counter(y_Jan).values())])\n",
        "rating_counts_Feb = tuple([val/sum(list(Counter(y_Feb).values())) for val in list(Counter(y_Feb).values())])\n",
        "rating_counts_Mar = tuple([val/sum(list(Counter(y_Mar).values())) for val in list(Counter(y_Mar).values())])\n",
        "rating_counts_Apr = tuple([val/sum(list(Counter(y_Apr).values())) for val in list(Counter(y_Apr).values())])\n",
        "rating_counts_May = tuple([val/sum(list(Counter(y_May).values())) for val in list(Counter(y_May).values())])\n",
        "rating_counts_Jun = tuple([val/sum(list(Counter(y_Jun).values())) for val in list(Counter(y_Jun).values())])\n",
        "rating_counts_Jul = tuple([val/sum(list(Counter(y_Jul).values())) for val in list(Counter(y_Jul).values())])\n",
        "rating_counts_Aug = tuple([val/sum(list(Counter(y_Aug).values())) for val in list(Counter(y_Aug).values())])\n",
        "rating_counts_Sep = tuple([val/sum(list(Counter(y_Sep).values())) for val in list(Counter(y_Sep).values())])\n",
        "rating_counts_Oct = tuple([val/sum(list(Counter(y_Oct).values())) for val in list(Counter(y_Oct).values())])\n",
        "rating_counts_Nov = tuple([val/sum(list(Counter(y_Nov).values())) for val in list(Counter(y_Nov).values())])\n",
        "rating_counts_Dec = tuple([val/sum(list(Counter(y_Dec).values())) for val in list(Counter(y_Dec).values())])\n",
        "\n",
        "# create plot for Jan to Jun\n",
        "\n",
        "n_groups = 5\n",
        "fig, ax = plt.subplots()\n",
        "index = np.arange(n_groups)\n",
        "bar_width = 0.08\n",
        "opacity = 0.8\n",
        "\n",
        "rects1 = plt.bar(index, rating_counts_Jan, bar_width,\n",
        "alpha=opacity,\n",
        "color='b',\n",
        "label='Jan')\n",
        "\n",
        "rects2 = plt.bar(index + bar_width, rating_counts_Feb, bar_width,\n",
        "alpha=opacity,\n",
        "color='r',\n",
        "label='Feb')\n",
        "\n",
        "rects3 = plt.bar(index + bar_width*2, rating_counts_Mar, bar_width,\n",
        "alpha=opacity,\n",
        "color='c',\n",
        "label='Mar')\n",
        "\n",
        "rects4 = plt.bar(index + bar_width*3, rating_counts_Apr, bar_width,\n",
        "alpha=opacity,\n",
        "color='m',\n",
        "label='Apr')\n",
        "\n",
        "rects5 = plt.bar(index + bar_width*4, rating_counts_May, bar_width,\n",
        "alpha=opacity,\n",
        "color='y',\n",
        "label='May')\n",
        "\n",
        "rects6 = plt.bar(index + bar_width*5, rating_counts_Jun, bar_width,\n",
        "alpha=opacity,\n",
        "color='g',\n",
        "label='Jun')\n",
        "\n",
        "plt.xlabel('Ratings')\n",
        "plt.ylabel('Ratios')\n",
        "plt.title('Ratings by Months')\n",
        "plt.xticks(index + bar_width, ('1', '2', '3', '4', '5'))\n",
        "plt.legend()\n",
        "\n",
        "plt.tight_layout()\n",
        "plt.show()"
      ],
      "execution_count": null,
      "outputs": [
        {
          "output_type": "display_data",
          "data": {
            "image/png": "[encoded data removed]",
            "text/plain": [
              "<Figure size 432x288 with 1 Axes>"
            ]
          },
          "metadata": {
            "tags": []
          }
        }
      ]
    },
    {
      "cell_type": "code",
      "metadata": {
        "id": "z4xVE74qgkjr",
        "colab_type": "code",
        "colab": {
          "base_uri": "https://localhost:8080/",
          "height": 297
        },
        "outputId": "c707bf4f-c02e-45c3-c05f-3b1ff5dbe088"
      },
      "source": [
        "# create plot for Jul to Dec\n",
        "n_groups = 5\n",
        "fig, ax = plt.subplots()\n",
        "index = np.arange(n_groups)\n",
        "bar_width = 0.08\n",
        "opacity = 0.8\n",
        "\n",
        "rects1 = plt.bar(index, rating_counts_Jul, bar_width,\n",
        "alpha=opacity,\n",
        "color='b',\n",
        "label='Jul')\n",
        "\n",
        "rects2 = plt.bar(index + bar_width, rating_counts_Aug, bar_width,\n",
        "alpha=opacity,\n",
        "color='r',\n",
        "label='Aug')\n",
        "\n",
        "rects3 = plt.bar(index + bar_width*2, rating_counts_Sep, bar_width,\n",
        "alpha=opacity,\n",
        "color='c',\n",
        "label='Sep')\n",
        "\n",
        "rects4 = plt.bar(index + bar_width*3, rating_counts_Oct, bar_width,\n",
        "alpha=opacity,\n",
        "color='m',\n",
        "label='Oct')\n",
        "\n",
        "rects5 = plt.bar(index + bar_width*4, rating_counts_Nov, bar_width,\n",
        "alpha=opacity,\n",
        "color='y',\n",
        "label='Nov')\n",
        "\n",
        "rects6 = plt.bar(index + bar_width*5, rating_counts_Dec, bar_width,\n",
        "alpha=opacity,\n",
        "color='g',\n",
        "label='Dec')\n",
        "\n",
        "plt.xlabel('Ratings')\n",
        "plt.ylabel('Ratios')\n",
        "plt.title('Ratings by Months')\n",
        "plt.xticks(index + bar_width, ('1', '2', '3', '4', '5'))\n",
        "plt.legend()\n",
        "\n",
        "plt.tight_layout()\n",
        "plt.show()"
      ],
      "execution_count": null,
      "outputs": [
        {
          "output_type": "display_data",
          "data": {
            "image/png": "[encoded data removed]",
            "text/plain": [
              "<Figure size 432x288 with 1 Axes>"
            ]
          },
          "metadata": {
            "tags": []
          }
        }
      ]
    },
    {
      "cell_type": "markdown",
      "metadata": {
        "id": "gBK0qjq4n9DG",
        "colab_type": "text"
      },
      "source": [
        "It seems that the ratio for each rating is around 20% for most of the time, it seems to be last informative than years, but we will still one-hot encoded it and added it to our **Final Model** just to make sure we did not miss anything simply based on assumption."
      ]
    },
    {
      "cell_type": "markdown",
      "metadata": {
        "id": "eC9mqtO1oWyy",
        "colab_type": "text"
      },
      "source": [
        "# 3.0 Final Model\n",
        "\n",
        "Our final model is a neural network which contains the text data and the one-hot encoding version of month and year. Listen to a song when you run a model. I highly recommend Yitai Wang if you like jazz hip-hop. Here is a [live](https://www.youtube.com/watch?v=TiRacUb_kKk&list=RDMMTa5GwQ49xtk&index=25) of Yitai Wang."
      ]
    },
    {
      "cell_type": "code",
      "metadata": {
        "id": "pV6--uI-pQAG",
        "colab_type": "code",
        "colab": {}
      },
      "source": [
        "#One-hot Encoding Month\n",
        "\n",
        "review_times_month_1hot = pd.get_dummies(review_times_month).values\n",
        "\n",
        "#One-hot Encoding Year\n",
        "\n",
        "review_times_year_1hot = pd.get_dummies(review_times_year).values"
      ],
      "execution_count": null,
      "outputs": []
    },
    {
      "cell_type": "code",
      "metadata": {
        "id": "oS8NakJzpYkQ",
        "colab_type": "code",
        "colab": {
          "base_uri": "https://localhost:8080/",
          "height": 51
        },
        "outputId": "a1d6b7f5-ea88-47bd-e418-e02536ef3c49"
      },
      "source": [
        "print(\"shape of one-hot encoding month: \", review_times_month_1hot.shape)\n",
        "print(\"shape of one-hot encoding year: \", review_times_year_1hot.shape)"
      ],
      "execution_count": null,
      "outputs": [
        {
          "output_type": "stream",
          "text": [
            "shape of one-hot encoding month:  (100000, 12)\n",
            "shape of one-hot encoding year:  (100000, 14)\n"
          ],
          "name": "stdout"
        }
      ]
    },
    {
      "cell_type": "code",
      "metadata": {
        "id": "Jb4yHCpehUXs",
        "colab_type": "code",
        "colab": {}
      },
      "source": [
        "#Merge them using np.hstack\n",
        "\n",
        "X = np.hstack((dense, review_times_month_1hot))\n",
        "X = np.hstack((X, review_times_year_1hot))"
      ],
      "execution_count": null,
      "outputs": []
    },
    {
      "cell_type": "code",
      "metadata": {
        "id": "bYHjibIhrY1P",
        "colab_type": "code",
        "colab": {
          "base_uri": "https://localhost:8080/",
          "height": 34
        },
        "outputId": "54196404-3ddf-4ecd-83f9-d06dec67bf63"
      },
      "source": [
        "#Take a look at its new shape\n",
        "\n",
        "X.shape"
      ],
      "execution_count": null,
      "outputs": [
        {
          "output_type": "execute_result",
          "data": {
            "text/plain": [
              "(100000, 66)"
            ]
          },
          "metadata": {
            "tags": []
          },
          "execution_count": 81
        }
      ]
    },
    {
      "cell_type": "code",
      "metadata": {
        "id": "IfCb2rkOrkJ9",
        "colab_type": "code",
        "colab": {}
      },
      "source": [
        "def evaluate_nn_final_model(X, y):\n",
        "  # Train-Test Split\n",
        "  X = np.asarray(X)\n",
        "  y = np.asarray(y)\n",
        "  X_train, X_test, y_train, y_test = ms.train_test_split(X, y, test_size=0.2, random_state = 1911)\n",
        "  y_train = pd.get_dummies(y_train).values\n",
        "  \n",
        "  # Design the layers\n",
        "  # Random Dropout to prevent overfitting\n",
        "  model = Sequential()\n",
        "  model.add(Dropout(0.1, input_shape=(66,)))\n",
        "\n",
        "  # Core Layes\n",
        "  model.add(Dense(120, activation='relu'))\n",
        "  model.add(Dense(60, activation='relu'))\n",
        "  model.add(Dense(5, activation='softmax'))\n",
        "\n",
        "  # Configures the model for training\n",
        "  model.compile(loss='categorical_crossentropy', optimizer='adam', metrics=['accuracy'])\n",
        "  model.fit(X_train, y_train, epochs = 50, batch_size = 64, validation_split = 0.2)\n",
        "\n",
        "  pred = model.predict(X_test)\n",
        "  labels = [1,2,3,4,5]\n",
        "  pred = [labels[np.argmax(item)] for item in pred]\n",
        "  test_acc = accuracy_score(pred, y_test)\n",
        "  print(\"The test accuracy is: \", test_acc)\n",
        "  return model, test_acc"
      ],
      "execution_count": null,
      "outputs": []
    },
    {
      "cell_type": "code",
      "metadata": {
        "id": "hjo_7y7Rr3gB",
        "colab_type": "code",
        "colab": {
          "base_uri": "https://localhost:8080/",
          "height": 1000
        },
        "outputId": "3957c393-0da4-4759-88b5-f0c69f6e349b"
      },
      "source": [
        "evaluate_nn_final_model(X, y)"
      ],
      "execution_count": null,
      "outputs": [
        {
          "output_type": "stream",
          "text": [
            "Train on 64000 samples, validate on 16000 samples\n",
            "Epoch 1/50\n",
            "64000/64000 [==============================] - 6s 92us/step - loss: 0.8641 - acc: 0.6853 - val_loss: 0.6367 - val_acc: 0.7704\n",
            "Epoch 2/50\n",
            "64000/64000 [==============================] - 5s 83us/step - loss: 0.6788 - acc: 0.7564 - val_loss: 0.6208 - val_acc: 0.7785\n",
            "Epoch 3/50\n",
            "64000/64000 [==============================] - 5s 84us/step - loss: 0.6679 - acc: 0.7605 - val_loss: 0.6145 - val_acc: 0.7805\n",
            "Epoch 4/50\n",
            "64000/64000 [==============================] - 5s 83us/step - loss: 0.6554 - acc: 0.7643 - val_loss: 0.6096 - val_acc: 0.7821\n",
            "Epoch 5/50\n",
            "64000/64000 [==============================] - 5s 82us/step - loss: 0.6452 - acc: 0.7689 - val_loss: 0.6087 - val_acc: 0.7791\n",
            "Epoch 6/50\n",
            "64000/64000 [==============================] - 5s 82us/step - loss: 0.6311 - acc: 0.7726 - val_loss: 0.5999 - val_acc: 0.7849\n",
            "Epoch 7/50\n",
            "64000/64000 [==============================] - 5s 82us/step - loss: 0.6236 - acc: 0.7766 - val_loss: 0.5913 - val_acc: 0.7878\n",
            "Epoch 8/50\n",
            "64000/64000 [==============================] - 5s 83us/step - loss: 0.6135 - acc: 0.7806 - val_loss: 0.5819 - val_acc: 0.7901\n",
            "Epoch 9/50\n",
            "64000/64000 [==============================] - 5s 84us/step - loss: 0.6080 - acc: 0.7822 - val_loss: 0.5766 - val_acc: 0.7930\n",
            "Epoch 10/50\n",
            "64000/64000 [==============================] - 5s 83us/step - loss: 0.5962 - acc: 0.7865 - val_loss: 0.5818 - val_acc: 0.7893\n",
            "Epoch 11/50\n",
            "64000/64000 [==============================] - 5s 84us/step - loss: 0.5904 - acc: 0.7882 - val_loss: 0.5714 - val_acc: 0.7927\n",
            "Epoch 12/50\n",
            "64000/64000 [==============================] - 5s 82us/step - loss: 0.5834 - acc: 0.7927 - val_loss: 0.5760 - val_acc: 0.7938\n",
            "Epoch 13/50\n",
            "64000/64000 [==============================] - 5s 83us/step - loss: 0.5808 - acc: 0.7922 - val_loss: 0.5666 - val_acc: 0.7954\n",
            "Epoch 14/50\n",
            "64000/64000 [==============================] - 5s 83us/step - loss: 0.5764 - acc: 0.7949 - val_loss: 0.5706 - val_acc: 0.7931\n",
            "Epoch 15/50\n",
            "64000/64000 [==============================] - 5s 84us/step - loss: 0.5723 - acc: 0.7953 - val_loss: 0.5602 - val_acc: 0.7966\n",
            "Epoch 16/50\n",
            "64000/64000 [==============================] - 5s 83us/step - loss: 0.5649 - acc: 0.7981 - val_loss: 0.5590 - val_acc: 0.7961\n",
            "Epoch 17/50\n",
            "64000/64000 [==============================] - 5s 84us/step - loss: 0.5625 - acc: 0.7983 - val_loss: 0.5574 - val_acc: 0.7969\n",
            "Epoch 18/50\n",
            "64000/64000 [==============================] - 5s 83us/step - loss: 0.5594 - acc: 0.7996 - val_loss: 0.5538 - val_acc: 0.7991\n",
            "Epoch 19/50\n",
            "64000/64000 [==============================] - 5s 84us/step - loss: 0.5574 - acc: 0.8002 - val_loss: 0.5524 - val_acc: 0.7994\n",
            "Epoch 20/50\n",
            "64000/64000 [==============================] - 5s 83us/step - loss: 0.5530 - acc: 0.8020 - val_loss: 0.5503 - val_acc: 0.8027\n",
            "Epoch 21/50\n",
            "64000/64000 [==============================] - 6s 86us/step - loss: 0.5516 - acc: 0.8016 - val_loss: 0.5540 - val_acc: 0.7992\n",
            "Epoch 22/50\n",
            "64000/64000 [==============================] - 5s 83us/step - loss: 0.5485 - acc: 0.8030 - val_loss: 0.5538 - val_acc: 0.7989\n",
            "Epoch 23/50\n",
            "64000/64000 [==============================] - 5s 84us/step - loss: 0.5487 - acc: 0.8036 - val_loss: 0.5482 - val_acc: 0.8031\n",
            "Epoch 24/50\n",
            "64000/64000 [==============================] - 5s 82us/step - loss: 0.5430 - acc: 0.8047 - val_loss: 0.5571 - val_acc: 0.7993\n",
            "Epoch 25/50\n",
            "64000/64000 [==============================] - 5s 82us/step - loss: 0.5436 - acc: 0.8053 - val_loss: 0.5450 - val_acc: 0.8007\n",
            "Epoch 26/50\n",
            "64000/64000 [==============================] - 5s 82us/step - loss: 0.5394 - acc: 0.8054 - val_loss: 0.5510 - val_acc: 0.8033\n",
            "Epoch 27/50\n",
            "64000/64000 [==============================] - 5s 83us/step - loss: 0.5387 - acc: 0.8064 - val_loss: 0.5458 - val_acc: 0.8014\n",
            "Epoch 28/50\n",
            "64000/64000 [==============================] - 5s 84us/step - loss: 0.5362 - acc: 0.8063 - val_loss: 0.5453 - val_acc: 0.8036\n",
            "Epoch 29/50\n",
            "64000/64000 [==============================] - 5s 82us/step - loss: 0.5345 - acc: 0.8068 - val_loss: 0.5454 - val_acc: 0.8042\n",
            "Epoch 30/50\n",
            "64000/64000 [==============================] - 5s 84us/step - loss: 0.5313 - acc: 0.8090 - val_loss: 0.5483 - val_acc: 0.8023\n",
            "Epoch 31/50\n",
            "64000/64000 [==============================] - 6s 86us/step - loss: 0.5289 - acc: 0.8105 - val_loss: 0.5457 - val_acc: 0.8032\n",
            "Epoch 32/50\n",
            "64000/64000 [==============================] - 6s 87us/step - loss: 0.5306 - acc: 0.8091 - val_loss: 0.5451 - val_acc: 0.8028\n",
            "Epoch 33/50\n",
            "64000/64000 [==============================] - 5s 82us/step - loss: 0.5278 - acc: 0.8107 - val_loss: 0.5461 - val_acc: 0.8017\n",
            "Epoch 34/50\n",
            "64000/64000 [==============================] - 5s 82us/step - loss: 0.5276 - acc: 0.8094 - val_loss: 0.5462 - val_acc: 0.8041\n",
            "Epoch 35/50\n",
            "64000/64000 [==============================] - 5s 84us/step - loss: 0.5248 - acc: 0.8118 - val_loss: 0.5476 - val_acc: 0.8035\n",
            "Epoch 36/50\n",
            "64000/64000 [==============================] - 5s 83us/step - loss: 0.5220 - acc: 0.8134 - val_loss: 0.5514 - val_acc: 0.8006\n",
            "Epoch 37/50\n",
            "64000/64000 [==============================] - 5s 83us/step - loss: 0.5234 - acc: 0.8112 - val_loss: 0.5482 - val_acc: 0.8036\n",
            "Epoch 38/50\n",
            "64000/64000 [==============================] - 5s 84us/step - loss: 0.5220 - acc: 0.8109 - val_loss: 0.5485 - val_acc: 0.8040\n",
            "Epoch 39/50\n",
            "64000/64000 [==============================] - 5s 83us/step - loss: 0.5191 - acc: 0.8121 - val_loss: 0.5491 - val_acc: 0.8027\n",
            "Epoch 40/50\n",
            "64000/64000 [==============================] - 5s 82us/step - loss: 0.5189 - acc: 0.8120 - val_loss: 0.5477 - val_acc: 0.8034\n",
            "Epoch 41/50\n",
            "64000/64000 [==============================] - 5s 82us/step - loss: 0.5193 - acc: 0.8132 - val_loss: 0.5470 - val_acc: 0.8047\n",
            "Epoch 42/50\n",
            "64000/64000 [==============================] - 5s 81us/step - loss: 0.5153 - acc: 0.8137 - val_loss: 0.5465 - val_acc: 0.8039\n",
            "Epoch 43/50\n",
            "64000/64000 [==============================] - 5s 81us/step - loss: 0.5161 - acc: 0.8147 - val_loss: 0.5427 - val_acc: 0.8053\n",
            "Epoch 44/50\n",
            "64000/64000 [==============================] - 5s 82us/step - loss: 0.5144 - acc: 0.8137 - val_loss: 0.5450 - val_acc: 0.8047\n",
            "Epoch 45/50\n",
            "64000/64000 [==============================] - 5s 82us/step - loss: 0.5137 - acc: 0.8150 - val_loss: 0.5441 - val_acc: 0.8054\n",
            "Epoch 46/50\n",
            "64000/64000 [==============================] - 5s 82us/step - loss: 0.5113 - acc: 0.8160 - val_loss: 0.5455 - val_acc: 0.8030\n",
            "Epoch 47/50\n",
            "64000/64000 [==============================] - 5s 82us/step - loss: 0.5115 - acc: 0.8157 - val_loss: 0.5472 - val_acc: 0.8019\n",
            "Epoch 48/50\n",
            "64000/64000 [==============================] - 5s 82us/step - loss: 0.5107 - acc: 0.8155 - val_loss: 0.5444 - val_acc: 0.8039\n",
            "Epoch 49/50\n",
            "64000/64000 [==============================] - 5s 81us/step - loss: 0.5087 - acc: 0.8170 - val_loss: 0.5491 - val_acc: 0.7996\n",
            "Epoch 50/50\n",
            "64000/64000 [==============================] - 5s 83us/step - loss: 0.5085 - acc: 0.8155 - val_loss: 0.5449 - val_acc: 0.8003\n",
            "The test accuracy is:  0.81135\n"
          ],
          "name": "stdout"
        },
        {
          "output_type": "execute_result",
          "data": {
            "text/plain": [
              "(<keras.engine.sequential.Sequential at 0x7f80a7d61048>, 0.81135)"
            ]
          },
          "metadata": {
            "tags": []
          },
          "execution_count": 83
        }
      ]
    },
    {
      "cell_type": "markdown",
      "metadata": {
        "id": "5a9sp0Jtuy71",
        "colab_type": "text"
      },
      "source": [
        "The test accuracy of my final model is 81.14%, slightly lower than the NN model(81.7%) without features generated from time. However, we have a random dropout layer at the beginning of our model, so there is some kind of randomese in them."
      ]
    },
    {
      "cell_type": "markdown",
      "metadata": {
        "id": "-ZYpdtsPsH_P",
        "colab_type": "text"
      },
      "source": [
        "#4.0 Conclusion\n",
        "\n",
        "We completed multiple things in this notebook, including:\n",
        "- Built multiple machine learning models on text data\n",
        "  - Linear Regression (BAD)\n",
        "  - One vs. One SVM\n",
        "  - One vs. All SVM\n",
        "  - Neural Network \n",
        "- Explored the timestamp data and find some interesting trend\n",
        "  - Exploration and Findings related to Year and Month. \n",
        "  - Data Visualizations\n",
        "- Constructed our final Neural Network model containing one-hot encoded features enigneered from timestamp\n",
        "\n",
        "**Thank you for going through this process with me. It is also a great lesson for me as well! Good luck on ur finals!**\n",
        "\n",
        "\n",
        "###4.0.1 Futurework\n",
        "\n",
        "As we discussed earlier, we shouldn't treat ratings as continuous values. Instead, they should be treated discretely. In this case, should we design a better metrics for accuracy? Hit-and-Miss is certainly powerful, but when we make an error, this error can have different severity.\n",
        "\n",
        "To be more specific, if our model predict a comment is 4-star when it is actually 5-star, it is a minor error. In contrast, if our model predict a comment is 1-star when it is actually 5-star, this becomes a very big problem and we should penalize the performance of the model more heavily. This metrics for evaluation could be studied in the future."
      ]
    }
  ]
}